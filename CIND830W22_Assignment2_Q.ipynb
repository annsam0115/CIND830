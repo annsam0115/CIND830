{
  "cells": [
    {
      "cell_type": "markdown",
      "source": [
        "## CIND830 - Python Programming for Data Science  \n",
        "### Assignment 2 (10% of the final grade) \n",
        "### Due on March 07, 2022 11:59 PM "
      ],
      "metadata": {
        "id": "kJ6ssXaGJfGN"
      }
    },
    {
      "cell_type": "markdown",
      "source": [
        "*****\n",
        "This is a Jupyter Notebook document that extends a simple formatting syntax for authoring HTML and PDF. Review [this](https://jupyter-notebook.readthedocs.io/en/stable/notebook.html) website for more details on using Jupyter Notebooks.\n",
        "\n",
        "Use the JupyterHub server on the Google Cloud Platform, provided by your designated instructor, for this assignment. Ensure using **Python 3.7** release or higher then complete the assignment by inserting your Python code wherever seeing the string `#INSERT YOUR ANSWER HERE.`\n",
        "\n",
        "When you click the `File` button, from the top navigation bar, then select `Export Notebook to HTML`, an HTML document will be generated that includes both the assignment content and the output of any embedded Python code chunks.\n",
        "\n",
        "Use [these](https://www.ryerson.ca/courses/students/tutorials/assignments/) guidelines to submit **both** the IPYNB and the exported file (HTML). Failing to submit both files will be subject to mark deduction.\n",
        "\n",
        "Please be advised that you cannot get more than 100% in this assignment, and the **BONUS** question (if there is any) will only be graded if all other questions have been submitted."
      ],
      "metadata": {
        "id": "UWjXw7DsJfGP"
      }
    },
    {
      "cell_type": "markdown",
      "source": [
        "*****\n"
      ],
      "metadata": {
        "id": "jPrZqSxgSWNr"
      }
    },
    {
      "cell_type": "markdown",
      "source": [
        "### Question 1  **[25 pts]**:\n",
        "\n",
        "**a)**  **[10 pts]**  Write a Python program that converts a list of email addresses to a dictionary, where the keys are the usernames, and the values are the respective domains.\n",
        "\n",
        "For example:  If the user enters `harry@abc.com,larry@abc.ca,sally@abc.org`, then the output should be `{'harry': 'abc.com', 'larry': 'abc.ca', 'sally': 'abc.org'}`\n"
      ],
      "metadata": {
        "id": "Z5lAKTm6SWNs"
      }
    },
    {
      "cell_type": "code",
      "source": [
        "#INSERT YOUR ANSWER HERE."
      ],
      "outputs": [],
      "execution_count": 1,
      "metadata": {
        "colab": {
          "base_uri": "https://localhost:8080/"
        },
        "execution": {
          "iopub.execute_input": "2022-02-07T18:24:05.088Z",
          "iopub.status.busy": "2022-02-07T18:24:05.079Z",
          "iopub.status.idle": "2022-02-07T18:24:05.102Z",
          "shell.execute_reply": "2022-02-07T18:24:04.944Z"
        },
        "id": "VM1VhboJSWNs",
        "jupyter": {
          "outputs_hidden": false
        },
        "outputId": "dd3a2f6a-c47b-43e7-907f-c916f064e38e",
        "pycharm": {
          "name": "#%%\n"
        }
      }
    },
    {
      "cell_type": "markdown",
      "source": [
        "**b)**  **[10 pts]** Write a Python program to accept the length of a dictionary, then create key-value pairs where the key is a random integer in the range 1 to 100 and the value is the square of the integer.\n",
        "\n",
        "For example: If the user enters `5`, then the output should be `{68: 4624, 28: 784, 99: 9801, 15: 225, 6: 36}`"
      ],
      "metadata": {
        "id": "Or6tr66hSWNu"
      }
    },
    {
      "cell_type": "code",
      "source": [
        "#INSERT YOUR ANSWER HERE."
      ],
      "outputs": [],
      "execution_count": 2,
      "metadata": {
        "colab": {
          "base_uri": "https://localhost:8080/"
        },
        "execution": {
          "iopub.execute_input": "2022-02-07T18:24:05.127Z",
          "iopub.status.busy": "2022-02-07T18:24:05.118Z",
          "iopub.status.idle": "2022-02-07T18:24:05.141Z",
          "shell.execute_reply": "2022-02-07T18:24:04.957Z"
        },
        "id": "42NZR6xiSWNu",
        "jupyter": {
          "outputs_hidden": false
        },
        "outputId": "15121898-3955-41fa-f73f-60a85bc36d60",
        "pycharm": {
          "name": "#%%\n"
        }
      }
    },
    {
      "cell_type": "markdown",
      "source": [
        "**c)**  **[5 pts]** List at least three diferences between a list and a dictionary.  Illustrate your work with simple examples."
      ],
      "metadata": {
        "id": "MsDmMXKsSWNv"
      }
    },
    {
      "cell_type": "code",
      "source": [
        "#INSERT YOUR ANSWER HERE."
      ],
      "outputs": [],
      "execution_count": 3,
      "metadata": {
        "execution": {
          "iopub.execute_input": "2022-02-07T18:24:05.175Z",
          "iopub.status.busy": "2022-02-07T18:24:05.162Z",
          "iopub.status.idle": "2022-02-07T18:24:05.189Z",
          "shell.execute_reply": "2022-02-07T18:24:04.969Z"
        },
        "id": "7XTyejHkSWNv",
        "jupyter": {
          "outputs_hidden": false
        },
        "pycharm": {
          "name": "#%%\n"
        }
      }
    },
    {
      "cell_type": "markdown",
      "source": [
        "*****"
      ],
      "metadata": {
        "id": "3dSXAn_-S7is"
      }
    },
    {
      "cell_type": "markdown",
      "source": [
        "### Question 2  **[25 pts]**:\n",
        "\n",
        "The data file used in this question is downloaded from (https://www.kaggle.com/aungpyaeap/supermarket-sales) and converted to a CSV file.  The [`supermarket_sales.csv`](https://app.box.com/s/f4hcfkferizntbev3ou8hso6nyfccf74) is a delimited text file containing the historical record of sales data in three supermarkets. The file contains the following columns separated by the comma character `,`\n",
        "* Invoice id: Computer-generated sales slip invoice identification number\n",
        "* Branch: Branch of supercenter (3 branches are available identified by A, B and C)\n",
        "* City: Location of supercenters\n",
        "* Customer type: Type of customers, recorded by Members for customers using member card and Normal for without member card\n",
        "* Gender: Gender type of customer\n",
        "* Product line: General item categorization groups - Electronic accessories, Fashion accessories, Food and beverages, Health and beauty, Home and Lifestyle, Sports and travel\n",
        "* Unit price: The price of each product in $\n",
        "* Quantity: Number of products purchased by the customer\n",
        "* Tax: 5% tax fee for customer buying\n",
        "* Total: Total price including tax\n",
        "* Date: Date of purchase (Record available from January 2019 to March 2019)\n",
        "* Time: Purchase time (10am to 9pm)\n",
        "* Payment: Payment used by customer for purchase (3 methods are available – Cash, Credit card and Ewallet)\n",
        "* COGS: Cost of goods sold\n",
        "* Gross margin percentage: Gross margin percentage\n",
        "* Gross income: Gross income\n",
        "* Rating: Customer satisfaction rating on their overall shopping experience (On a scale of 1 to 10)\n",
        "\n",
        "Note: Only Python [built-in functions](https://docs.python.org/3.7/library/functions.html) or [standard modules](https://docs.python.org/3.7/py-modindex.html) are allowed to be used in this question. Do not use a third-party library for any part of the code. Importing any third-party library will result in marks deduction."
      ],
      "metadata": {
        "id": "bZTiEgmqpNPl"
      }
    },
    {
      "cell_type": "markdown",
      "source": [
        "**a)**  **[10 pts]**  Write a Python function that reads the Supermarket Sales data into a 2 dimensional structure.\n",
        "\n",
        "Note: The first line of the CSV contains the column headings, therefore it should not be stored in the 2 dimensional data list. You can skip the first line of the data file"
      ],
      "metadata": {
        "id": "FB9hQo8CzipU"
      }
    },
    {
      "cell_type": "code",
      "source": [
        "#INSERT YOUR ANSWER HERE."
      ],
      "outputs": [],
      "execution_count": 4,
      "metadata": {
        "execution": {
          "iopub.execute_input": "2022-02-07T18:24:05.226Z",
          "iopub.status.busy": "2022-02-07T18:24:05.217Z",
          "iopub.status.idle": "2022-02-07T18:24:05.235Z",
          "shell.execute_reply": "2022-02-07T18:24:04.980Z"
        },
        "id": "8wU8-SbuqbpU"
      }
    },
    {
      "cell_type": "markdown",
      "source": [
        "**b)**  **[5 pts]**  Write a function to receive the Supermarket Sales list (that you created in the previous question) and return the total sales (the sum of column `Total`) of the branches as a dictionary\n",
        "\n",
        "The returned information should look like (the numbers given below may not be correct):  \n",
        "{\"A\": 123456.123, \"B\": 234567.567, \"C\": 345678.9987}"
      ],
      "metadata": {
        "id": "xSCFrZQjqd5r"
      }
    },
    {
      "cell_type": "code",
      "source": [
        "#INSERT YOUR ANSWER HERE."
      ],
      "outputs": [],
      "execution_count": 5,
      "metadata": {
        "execution": {
          "iopub.execute_input": "2022-02-07T18:24:05.260Z",
          "iopub.status.busy": "2022-02-07T18:24:05.250Z",
          "iopub.status.idle": "2022-02-07T18:24:05.269Z",
          "shell.execute_reply": "2022-02-07T18:24:04.990Z"
        },
        "id": "braxNFZk0iFe"
      }
    },
    {
      "cell_type": "markdown",
      "source": [
        "**c)  [5 pts]** Write a function to receive the Supermarket Sales list and return an object (maybe a list or a dictionary) containing the total number of sales per Branch and per Customer Type.\n",
        "\n",
        "The returned information can be either one of the below choices or another (The numbers given below may not be correct):)\n",
        "* a dictionary like {\"A\": {\"Member\": 230, \"Normal\": 351}, \"B\": {\"Member\": 123, \"Normal\": 117},  \"C\": {\"Member\": 335, \"Normal\": 18}}\n",
        "* a list like [ [230, 351], [123, 117], [335, 18]]\n",
        "\n",
        "You need to consider the best structure to return since you will be displaying this information in a human-readable format in the following question. "
      ],
      "metadata": {
        "id": "QW7PxwIV0ifq"
      }
    },
    {
      "cell_type": "code",
      "source": [
        "#INSERT YOUR ANSWER HERE."
      ],
      "outputs": [],
      "execution_count": 6,
      "metadata": {
        "execution": {
          "iopub.execute_input": "2022-02-07T18:24:05.290Z",
          "iopub.status.busy": "2022-02-07T18:24:05.283Z",
          "iopub.status.idle": "2022-02-07T18:24:05.298Z",
          "shell.execute_reply": "2022-02-07T18:24:05.003Z"
        },
        "id": "e96bPxDw2TUr"
      }
    },
    {
      "cell_type": "markdown",
      "source": [
        "**d) [5 pts]** Write a Python program to do the following:\n",
        "* Call the function you wrote in **a)** to read the data file\n",
        "* Call the function you wrote in **b)** to calculate the total sales information and display the information on the screen\n",
        "* Call the function you wrote in **c)** to calculate the total number of sales per Branch and per Customer Type and display the information on the screen\n",
        "\n",
        "Note: While displaying the information on the screen, the outputs should be human-readable and understandable (e.g. column headings, row names)"
      ],
      "metadata": {
        "id": "KJWHpLk62UPN"
      }
    },
    {
      "cell_type": "code",
      "source": [
        "#INSERT YOUR ANSWER HERE."
      ],
      "outputs": [],
      "execution_count": 7,
      "metadata": {
        "colab": {
          "base_uri": "https://localhost:8080/",
          "height": 562
        },
        "execution": {
          "iopub.execute_input": "2022-02-07T18:24:05.322Z",
          "iopub.status.busy": "2022-02-07T18:24:05.313Z",
          "iopub.status.idle": "2022-02-07T18:24:05.330Z",
          "shell.execute_reply": "2022-02-07T18:24:05.016Z"
        },
        "id": "atRhvBaZ4w9c",
        "outputId": "a3032585-fe80-4d5e-f11b-e3c2aa50b9c2"
      }
    },
    {
      "cell_type": "markdown",
      "source": [
        "*****"
      ],
      "metadata": {
        "id": "bslmOJb3TMWK"
      }
    },
    {
      "cell_type": "markdown",
      "source": [
        "### Question 3  **[25 pts]**: \n",
        "Write a program detailing the number of passengers per vehicle.  The program includes three classes: `Vehicle`, `Car`, `Bus` where `Vehicle` is the parent class of `Car` and `Bus`. \n",
        "\n",
        "**a)**  **[10 pts]**  Each of the `Car` and `Bus` classes should have a constructor method `__init()__` that generates and returns a random number of passengers based on the type of the vehicle; If it is a `Bus`, then the number of passengers should be within a range of 5 and 20.  If the vehicle is a `Car`, the range should be between 1 to 4 passengers, inclusively.\n",
        "\n",
        "**b)**  **[10 pts]**  The program's `main()` function would display the following output.  Notably, since the numbers of passengers are randomly selected, the program will keep changing them every time it runs.\n",
        "\n",
        "```\n",
        "--------------------------------\n",
        "Bus Passengers:   64\n",
        "Car Passengers:   13\n",
        "Total Passengers: 77\n",
        "--------------------------------\n",
        "Bus#:  1  Number of Passengers :18\n",
        "Bus#:  2  Number of Passengers :20\n",
        "Bus#:  3  Number of Passengers : 6\n",
        "Bus#:  4  Number of Passengers : 9\n",
        "Bus#:  5  Number of Passengers :11\n",
        "Car#:  6  Number of Passengers : 1\n",
        "Car#:  7  Number of Passengers : 2\n",
        "Car#:  8  Number of Passengers : 4\n",
        "Car#:  9  Number of Passengers : 2\n",
        "Car#: 10  Number of Passengers : 4\n",
        "--------------------------------\n",
        "```\n",
        "\n",
        "**c)**  **[5 pts]** Restructure the program by re-defining the `Bus` class to be the superclass of `Car`, and display the same output."
      ],
      "metadata": {
        "id": "e5vhSJJ27Efk"
      }
    },
    {
      "cell_type": "code",
      "source": [
        "#INSERT YOUR ANSWER HERE."
      ],
      "outputs": [],
      "execution_count": 8,
      "metadata": {
        "colab": {
          "base_uri": "https://localhost:8080/"
        },
        "execution": {
          "iopub.execute_input": "2022-02-07T18:24:05.355Z",
          "iopub.status.busy": "2022-02-07T18:24:05.345Z",
          "iopub.status.idle": "2022-02-07T18:24:05.365Z",
          "shell.execute_reply": "2022-02-07T18:24:05.026Z"
        },
        "id": "04Djltrd7aVB",
        "outputId": "749c806f-bb3d-48f0-dd4c-12e4bf5c27ef"
      }
    },
    {
      "cell_type": "markdown",
      "source": [
        "*****"
      ],
      "metadata": {
        "id": "Zyv3x4nXTPDR"
      }
    },
    {
      "cell_type": "markdown",
      "source": [
        "### Question 4  **[25 pts]**:"
      ],
      "metadata": {
        "id": "My2U_-Z-waII"
      }
    },
    {
      "cell_type": "markdown",
      "source": [
        "**a)**  **[5 pts]** Define and implement a function that accepts a tuple of lists and returns the sum of only the unique numbers in that tuple.\n",
        "\n",
        "For example, if the user enters the following tuple: `\n",
        "([1, 5], [7, 8, 3, 2], [3, 3, 2])`\n",
        "then the output should be `26`."
      ],
      "metadata": {
        "id": "hPNVoBjELuSi"
      }
    },
    {
      "cell_type": "code",
      "source": [
        "#INSERT YOUR ANSWER HERE."
      ],
      "outputs": [],
      "execution_count": 9,
      "metadata": {
        "colab": {
          "base_uri": "https://localhost:8080/"
        },
        "id": "6QI3x0JUNm1S",
        "outputId": "bec040a0-dcd8-416a-be2d-0c3ea1a3e522",
        "execution": {
          "shell.execute_reply": "2022-02-07T18:24:05.035Z",
          "iopub.status.busy": "2022-02-07T18:24:05.376Z",
          "iopub.execute_input": "2022-02-07T18:24:05.385Z",
          "iopub.status.idle": "2022-02-07T18:24:05.394Z"
        }
      }
    },
    {
      "cell_type": "markdown",
      "source": [
        "**b)**  **[5 pts]** Define and implement a function that converts the a list of tuples to a dictionary where the first value of each tuple is the key, and the second value is the dictionary value. <br>\n",
        "\n",
        "For example, if the user enters the following list: \n",
        "`\n",
        "[('Person1', 80), ('Person2', ), ('Person3', 20), ('Person4', 20, 60)]\n",
        "`\n",
        "\n",
        "Then the output should be: `{'Person1': 80, 'Person2': None, 'Person3': 20, 'Person4': 20}`\n"
      ],
      "metadata": {
        "id": "wPzFXvEcMoER"
      }
    },
    {
      "cell_type": "code",
      "source": [
        "#INSERT YOUR ANSWER HERE."
      ],
      "outputs": [],
      "execution_count": 10,
      "metadata": {
        "colab": {
          "base_uri": "https://localhost:8080/"
        },
        "id": "KPBGxHQCMeC3",
        "outputId": "0d4295b1-9762-478a-dffb-dee5a1e87479",
        "execution": {
          "shell.execute_reply": "2022-02-07T18:24:05.045Z",
          "iopub.status.busy": "2022-02-07T18:24:05.406Z",
          "iopub.execute_input": "2022-02-07T18:24:05.414Z",
          "iopub.status.idle": "2022-02-07T18:24:05.422Z"
        }
      }
    },
    {
      "cell_type": "markdown",
      "source": [
        "**c)**  **[15 pts]** The following script extracts the text from the `https://norvig.com/big.txt` file, stores them in a string object, then assigns this string to a variable called `data` using the [requests](https://pypi.org/project/requests/) third-party library.\n",
        "```\n",
        "#!pip install requests\n",
        "import requests\n",
        "response = requests.get('https://norvig.com/big.txt')\n",
        "data = response.text\n",
        "```\n",
        "Run the script above, uncomment the first line if you need to install the library on your machine, then define and implement a function that returns the followings:\n",
        "\n",
        "* The total number of unique words and unique characters\n",
        "* The top ten most frequent words and the number of times these words appear in the text."
      ],
      "metadata": {
        "id": "TsI5fOCAMoQi"
      }
    },
    {
      "cell_type": "code",
      "source": [
        "#INSERT YOUR ANSWER HERE."
      ],
      "outputs": [],
      "execution_count": 11,
      "metadata": {
        "colab": {
          "base_uri": "https://localhost:8080/"
        },
        "execution": {
          "iopub.execute_input": "2022-02-07T18:24:05.443Z",
          "iopub.status.busy": "2022-02-07T18:24:05.436Z",
          "iopub.status.idle": "2022-02-07T18:24:05.453Z",
          "shell.execute_reply": "2022-02-07T18:24:05.056Z"
        },
        "id": "1_CNpCquF34c",
        "outputId": "6f7bbf6e-7c5b-434a-f727-dd37a7596e35"
      }
    },
    {
      "cell_type": "markdown",
      "source": [
        "*****"
      ],
      "metadata": {
        "id": "WwsjUxjASWNw",
        "pycharm": {
          "name": "#%% md\n"
        }
      }
    },
    {
      "cell_type": "markdown",
      "source": [
        "#### This is the end of assignment 2"
      ],
      "metadata": {
        "id": "7vRukEN2JfGX"
      }
    }
  ],
  "metadata": {
    "colab": {
      "collapsed_sections": [],
      "name": "CIND830W22_Assignment2_QA.ipynb",
      "provenance": []
    },
    "kernelspec": {
      "display_name": "Python 3",
      "language": "python",
      "name": "python3"
    },
    "language_info": {
      "name": "python",
      "version": "3.8.5",
      "mimetype": "text/x-python",
      "codemirror_mode": {
        "name": "ipython",
        "version": 3
      },
      "pygments_lexer": "ipython3",
      "nbconvert_exporter": "python",
      "file_extension": ".py"
    },
    "nteract": {
      "version": "0.28.0"
    },
    "varInspector": {
      "cols": {
        "lenName": 16,
        "lenType": 16,
        "lenVar": 40
      },
      "kernels_config": {
        "python": {
          "delete_cmd_postfix": "",
          "delete_cmd_prefix": "del ",
          "library": "var_list.py",
          "varRefreshCmd": "print(var_dic_list())"
        },
        "r": {
          "delete_cmd_postfix": ") ",
          "delete_cmd_prefix": "rm(",
          "library": "var_list.r",
          "varRefreshCmd": "cat(var_dic_list()) "
        }
      },
      "types_to_exclude": [
        "module",
        "function",
        "builtin_function_or_method",
        "instance",
        "_Feature"
      ],
      "window_display": false
    }
  },
  "nbformat": 4,
  "nbformat_minor": 0
}