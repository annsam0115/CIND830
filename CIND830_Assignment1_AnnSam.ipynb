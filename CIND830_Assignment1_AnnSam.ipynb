{
 "cells": [
  {
   "cell_type": "markdown",
   "metadata": {
    "id": "kJ6ssXaGJfGN"
   },
   "source": [
    "## CIND830 - Python Programming for Data Science  \n",
    "### Assignment 1 (10% of the final grade) \n",
    "### Due on February 07, 2022 11:59 PM "
   ]
  },
  {
   "cell_type": "markdown",
   "metadata": {
    "id": "UWjXw7DsJfGP"
   },
   "source": [
    "*****\n",
    "This is a Jupyter Notebook document that extends a simple formatting syntax for authoring HTML and PDF. Review [this](https://jupyter-notebook.readthedocs.io/en/stable/notebook.html) website for more details on using Jupyter Notebooks.\n",
    "\n",
    "Consider using a Jupyter Notebook platform to complete this assignment. Ensure using **Python 3.7** release or higher then complete the assignment by inserting your Python code wherever seeing the string `#INSERT YOUR ANSWER HERE.`\n",
    "\n",
    "When you click the `File` button, from the top navigation bar, then select `Export Notebook to HTML`, an HTML document will be generated that includes both the assignment content and the output of any embedded Python code chunks.\n",
    "\n",
    "Use [these](https://www.ryerson.ca/courses/students/tutorials/assignments/) guidelines to submit **both** the IPYNB and the exported file (HTML). Failing to submit both files will be subject to mark deduction.\n",
    "\n",
    "Please be advised that you cannot get more than 100% in this assignment, and the **BONUS** question (if there is any) will only be graded if all other questions have been submitted."
   ]
  },
  {
   "cell_type": "markdown",
   "metadata": {
    "id": "jPrZqSxgSWNr"
   },
   "source": [
    "*****\n"
   ]
  },
  {
   "cell_type": "markdown",
   "metadata": {
    "id": "-eIGITiYlFcs"
   },
   "source": [
    "### **Question 1  [25 pts]**:\n",
    "\n",
    "Write a python program to display all prime numbers within a given range\n",
    "\n",
    "**a)**  **[5 pts]** Take inputs from the user\n",
    "  - Take 2 inputs, a lower bound and an upper bound from the user\n"
   ]
  },
  {
   "cell_type": "code",
   "execution_count": null,
   "metadata": {
    "execution": {
     "iopub.execute_input": "2022-01-18T02:34:45.986Z",
     "iopub.status.busy": "2022-01-18T02:34:45.975Z",
     "iopub.status.idle": "2022-01-18T02:34:45.998Z",
     "shell.execute_reply": "2022-01-18T02:34:45.794Z"
    },
    "id": "Ls5c2R4ok6QD"
   },
   "outputs": [],
   "source": [
    "lowerInput = int(input(\"Please input a postive number: \"))\n",
    "higherInput = int(input(\"Please input a postive number greater than the first number: \"))"
   ]
  },
  {
   "cell_type": "markdown",
   "metadata": {
    "id": "zupZ7VypeT2T"
   },
   "source": [
    "**b)**  **[10 pts]** Implement a solution using count-controlled loops (for loops)\n",
    "  - For the count-controlled loops, you can use the `range()` function to generate a sequence of numbers"
   ]
  },
  {
   "cell_type": "code",
   "execution_count": null,
   "metadata": {
    "execution": {
     "iopub.execute_input": "2022-01-18T02:34:46.026Z",
     "iopub.status.busy": "2022-01-18T02:34:46.017Z",
     "iopub.status.idle": "2022-01-18T02:34:46.038Z",
     "shell.execute_reply": "2022-01-18T02:34:45.813Z"
    },
    "id": "pivRxmLZ5f-M"
   },
   "outputs": [],
   "source": [
    "lowerInput = int(input(\"Please input a postive number: \"))\n",
    "higherInput = int(input(\"Please input a postive number greater than the first number: \"))\n",
    "\n",
    "print(\"The prime numbers between\", lowerInput, \"and\", higherInput, \"are:\")\n",
    "for number in range(lowerInput, higherInput + 1):\n",
    "  if number > 1:                        # prime number cannot be 0 or 1\n",
    "    for i in range(2, number):          # first prime is 2\n",
    "      if number % i == 0:               # prime number cannot be divisible by i\n",
    "        break                           # if TRUE, break loop\n",
    "    else:\n",
    "      print(number)                     # print prime number"
   ]
  },
  {
   "cell_type": "markdown",
   "metadata": {
    "id": "Omvc4DMzecdp"
   },
   "source": [
    "**c)**  **[10 pts]** Implement a solution using condition-controlled loops (while loops)"
   ]
  },
  {
   "cell_type": "code",
   "execution_count": null,
   "metadata": {
    "execution": {
     "iopub.execute_input": "2022-01-18T02:34:46.070Z",
     "iopub.status.busy": "2022-01-18T02:34:46.055Z",
     "iopub.status.idle": "2022-01-18T02:34:46.081Z",
     "shell.execute_reply": "2022-01-18T02:34:45.827Z"
    },
    "id": "s3_MqQ8J8Ntt"
   },
   "outputs": [],
   "source": [
    "lowerInput = int(input(\"Please input a postive number: \"))\n",
    "higherInput = int(input(\"Please input a postive number greater than the first number: \"))\n",
    "number = lowerInput                    # starting number in loop\n",
    "\n",
    "print(\"The prime numbers between\", lowerInput, \"and\", higherInput, \"are:\")\n",
    "while number <= higherInput:           # range between the lowerInput and higherInput\n",
    "  count = 0                        \n",
    "  i = 2                              \n",
    "  while i <= number//2:                \n",
    "    if number % i == 0:                # prime number cannot be divisable by i\n",
    "      count += 1\n",
    "      break\n",
    "    i += 1                         \n",
    "  if count == 0 and number != 1:       # prime number cannot be 0 or 1\n",
    "    print(number)\n",
    "  number += 1                          # iteration between lowerInput to higherInput"
   ]
  },
  {
   "cell_type": "markdown",
   "metadata": {
    "id": "xLf-vnSff-Gm"
   },
   "source": [
    "***"
   ]
  },
  {
   "cell_type": "markdown",
   "metadata": {
    "id": "CaroRARQVhbV"
   },
   "source": [
    "### **Question 2 [25 pts]**:\n",
    "Write a python program that takes two numeric inputs `x` and `y`. \n",
    "\n",
    "**a)**  **[5 pts]** The program should take numeric inputs continuously.\n",
    "\n",
    "**b)**  **[10 pts]** The program should ensure the range of `x` and `y` is between `0` and `1`. If either one of the input values is out of range, smaller than `0` or greater than `1`, then the program should quit.\n",
    "\n",
    "**c)**  **[10 pts]** Implement `XOR` gate, where the program returns `1` if both `x` and `y` values are different; otherwise, it returns `0`.\n",
    "\n",
    "The program should work for floating-point values. \n",
    "\n",
    "For example, \n",
    "\n",
    "If `x = .3` and `y = .3`, then `xor` output should be `0`\n",
    "\n",
    "If `x = .6` and `y = .3`, then `xor` output should be `1`\n",
    "\n",
    "If `x = .3` and `y = .6`, then `xor` output should be `1`\n",
    "\n",
    "If `x = .6` and `y = .6`, then `xor` output should be `0`  "
   ]
  },
  {
   "cell_type": "code",
   "execution_count": null,
   "metadata": {
    "execution": {
     "iopub.execute_input": "2022-01-18T02:34:46.105Z",
     "iopub.status.busy": "2022-01-18T02:34:46.095Z",
     "iopub.status.idle": "2022-01-18T02:34:46.117Z",
     "shell.execute_reply": "2022-01-18T02:34:45.842Z"
    },
    "id": "cA3IM2NrtMXk"
   },
   "outputs": [],
   "source": [
    "def XORgate(xInput, yInput):             # defining XOR gate\n",
    "  if xInput != yInput:\n",
    "    return 1\n",
    "  else:\n",
    "    return 0\n",
    "\n",
    "while True:\n",
    "  xInput = float(input(\"Please enter a value between 0 and 1: \"))\n",
    "  yInput = float(input(\"Please enter another value between 0 and 1: \"))\n",
    "  if xInput > 0 and xInput < 1:             # range is exclusive of 0 and 1\n",
    "    if yInput > 0 and yInput < 1:\n",
    "      print(XORgate(xInput, yInput))        # xor gate\n",
    "    else:\n",
    "      print(\"You've entered a number out of range. Goodbye.\")\n",
    "      break"
   ]
  },
  {
   "cell_type": "markdown",
   "metadata": {
    "id": "zOEOhJrTgVFk"
   },
   "source": [
    "***"
   ]
  },
  {
   "cell_type": "markdown",
   "metadata": {
    "id": "Z5lAKTm6SWNs"
   },
   "source": [
    "### **Question 3  [25 pts]**:\n",
    "\n",
    "**a)**  **[5 pts]**  Write a Python program to accept an integer and display its binary and octal equivalent.\n",
    "For example, if the user enters `5` then the output should be: <br>\n",
    "`The binary equivalent of 5 is 0b101`\n",
    "`The octal equivalent of 5 is 0o5`"
   ]
  },
  {
   "cell_type": "code",
   "execution_count": null,
   "metadata": {
    "execution": {
     "iopub.execute_input": "2022-01-18T02:34:46.146Z",
     "iopub.status.busy": "2022-01-18T02:34:46.136Z",
     "iopub.status.idle": "2022-01-18T02:34:46.159Z",
     "shell.execute_reply": "2022-01-18T02:34:45.857Z"
    },
    "id": "VM1VhboJSWNs",
    "jupyter": {
     "outputs_hidden": false
    },
    "pycharm": {
     "name": "#%%\n"
    }
   },
   "outputs": [],
   "source": [
    "userInput = int(input(\"Please enter an integer: \"))\n",
    "print(\"The binary equivalent of\", userInput, \"is\", bin(userInput), \n",
    "      \"The octal equivalent of\", userInput, \"is\", oct(userInput))"
   ]
  },
  {
   "cell_type": "markdown",
   "metadata": {
    "id": "Or6tr66hSWNu"
   },
   "source": [
    "**b)**  **[10 pts]** Write a Python program to calculate the distance between two given points whose coordinates are $(x_1, y_1)$ and $(x_2, y_2)$\n",
    "\n",
    "according to the following formula\n",
    "$Distance = \\sqrt{(x_2 - x_1)^2 + (y_2 - y_1)^2}$\n",
    "\n",
    "For example, if the user enters `2, 4` and `4, 8` then the output should be: <br>\n",
    "`The distance between [2.0, 4.0] and [4.0, 8.0] is 4.47213595499958`"
   ]
  },
  {
   "cell_type": "code",
   "execution_count": null,
   "metadata": {
    "execution": {
     "iopub.execute_input": "2022-01-18T02:34:46.180Z",
     "iopub.status.busy": "2022-01-18T02:34:46.172Z",
     "iopub.status.idle": "2022-01-18T02:34:46.189Z",
     "shell.execute_reply": "2022-01-18T02:34:45.877Z"
    },
    "id": "42NZR6xiSWNu",
    "jupyter": {
     "outputs_hidden": false
    },
    "pycharm": {
     "name": "#%%\n"
    }
   },
   "outputs": [],
   "source": [
    "import math                                                         # import math to use sqrt fx\n",
    "\n",
    "x1 = float(input(\"Enter the x1 value of the first coordinate: \"))\n",
    "y1 = float(input(\"Enter the y1 value of the first coordinate: \"))\n",
    "x2 = float(input(\"Enter the x2 value of the first coordinate: \"))\n",
    "y2 = float(input(\"Enter the y2 value of the first coordinate: \"))\n",
    "coordDistance = math.sqrt(((x2 - x1)**2) + ((y2 - y1)**2))          # distance equation \n",
    "coord1 = [x1, y1]                                                   # create a list\n",
    "coord2 = [x2, y2]\n",
    "print(\"The distance between\", coord1, \"and\", coord2, \"is\", coordDistance)"
   ]
  },
  {
   "cell_type": "markdown",
   "metadata": {
    "id": "MsDmMXKsSWNv"
   },
   "source": [
    "**c)**  **[10 pts]** Write a Python program to accept an integer number and dispay the digits at the ones, tens and hundreds place of that number.  \n",
    "For example, if the user enters `86421` then the output should be:\n",
    "\n",
    "`The digit at the ones place of 86421 is 1`\n",
    "\n",
    "`The digit at the tens place of 86421 is 2`\n",
    "\n",
    "`The digit at the hundreds place of 86421 is 4`\n"
   ]
  },
  {
   "cell_type": "code",
   "execution_count": 9,
   "metadata": {
    "execution": {
     "iopub.execute_input": "2022-01-18T02:34:46.223Z",
     "iopub.status.busy": "2022-01-18T02:34:46.208Z",
     "iopub.status.idle": "2022-01-18T02:34:46.233Z",
     "shell.execute_reply": "2022-01-18T02:34:45.893Z"
    },
    "id": "7XTyejHkSWNv",
    "jupyter": {
     "outputs_hidden": false
    },
    "pycharm": {
     "name": "#%%\n"
    }
   },
   "outputs": [
    {
     "name": "stdout",
     "output_type": "stream",
     "text": [
      "Please enter a number: 86421\n",
      "The digit at the ones place of 86421 is 1 \n",
      "The digit at the tens place of 86421 is 2 \n",
      "The digit at the hundreds place of 86421 is 4\n"
     ]
    }
   ],
   "source": [
    "numInput = int(input(\"Please enter a number: \"))\n",
    "onesPlace = numInput%10                                             # using modulus by 10 gives remainder in ones place\n",
    "tensPlace = (numInput//10)%10                                       # using floor divisor breaks down the number to the intended place for modulus calc\n",
    "hundredsPlace = (numInput//100)%10\n",
    "print(\"The digit at the ones place of\", numInput, \"is\", onesPlace, \n",
    "      \"\\nThe digit at the tens place of\", numInput, \"is\", tensPlace,\n",
    "      \"\\nThe digit at the hundreds place of\", numInput, \"is\", hundredsPlace)"
   ]
  },
  {
   "cell_type": "markdown",
   "metadata": {
    "id": "1pXjKc23jXTj"
   },
   "source": [
    "*****\n",
    "\n"
   ]
  },
  {
   "cell_type": "markdown",
   "metadata": {
    "id": "zyGPPD-zY9tI"
   },
   "source": [
    "### **Question 4  [25 pts]**:\n",
    "**a)**  **[10 pts]** Write a code that creates a set of different passwords.  Each password is a combination of a random adjective, noun, two digits and two punctuation symbols.\n",
    "\n",
    "For example, if the user asks for generating 4 passwords, then the code might generate the following list:\n",
    "\n",
    "| Password |\n",
    "|:-:|\n",
    "| supershine17*-  |\n",
    "| cheerfulmeet78~.  |\n",
    "| elitemango32&,  |\n",
    "| glossytrain14$} |\n",
    "\n",
    "Hints:  \n",
    "1. You can use the [wonderwords](https://pypi.org/project/wonderwords/) library to generate random words of the english language.\n",
    "2. You can use the \"functions for sequences\" methods from the [random](https://docs.python.org/3/library/random.html) module."
   ]
  },
  {
   "cell_type": "code",
   "execution_count": null,
   "metadata": {
    "execution": {
     "iopub.execute_input": "2022-01-18T02:34:46.262Z",
     "iopub.status.busy": "2022-01-18T02:34:46.252Z",
     "iopub.status.idle": "2022-01-18T02:34:46.272Z",
     "shell.execute_reply": "2022-01-18T02:34:45.906Z"
    },
    "id": "GBa1P-FLZ4tJ"
   },
   "outputs": [],
   "source": [
    "import wonderwords \n",
    "from wonderwords import RandomWord \n",
    "import random\n",
    "import string\n",
    "\n",
    "r = RandomWord()\n",
    "digits = list(range(0,10))\n",
    "punc = list(string.punctuation)\n",
    "\n",
    "numPassword = int(input(\"Enter the number of passwords required: \"))\n",
    "print(\"Password:\")\n",
    "for numpass in range(1, numPassword +1):\n",
    "  passwordAdj = r.word(include_categories=[\"adjective\"])\n",
    "  passwordNoun = r.word(include_categories=[\"noun\"])\n",
    "  passwordDig1 = str(random.choice(digits))\n",
    "  passwordDig2 = str(random.choice(digits))\n",
    "  punc1 = random.choice(punc)\n",
    "  punc2 = random.choice(punc)\n",
    "  newPassword = passwordAdj + passwordNoun + passwordDig1 + passwordDig2 + punc1 + punc2\n",
    "  print(newPassword)\n",
    "  numpass += 1"
   ]
  },
  {
   "cell_type": "markdown",
   "metadata": {
    "id": "b-04LTBnaXvh"
   },
   "source": [
    "**b)**  **[10 pts]** Count the characters of each generated password in Q4.a, then print the password along with its number of characters.\n",
    "\n",
    "For example, if the user enters `4`, then the output might be as follows:\n",
    "\n",
    "| Password | Length |\n",
    "|:-:|:-:|\n",
    "| supershine17*-  | 14 |\n",
    "| cheerfulmeet78~.  | 16|\n",
    "| elitemango32&,  | 14|\n",
    "| glossytrain14$} | 15 |\n",
    "\n"
   ]
  },
  {
   "cell_type": "code",
   "execution_count": null,
   "metadata": {
    "execution": {
     "iopub.execute_input": "2022-01-18T02:34:46.304Z",
     "iopub.status.busy": "2022-01-18T02:34:46.289Z",
     "iopub.status.idle": "2022-01-18T02:34:46.314Z",
     "shell.execute_reply": "2022-01-18T02:34:45.918Z"
    },
    "id": "-uhY18LaacpQ"
   },
   "outputs": [],
   "source": [
    "import wonderwords \n",
    "from wonderwords import RandomWord \n",
    "import random\n",
    "import string\n",
    "\n",
    "r = RandomWord()\n",
    "digits = list(range(0,10))\n",
    "punc = list(string.punctuation)\n",
    "\n",
    "numPassword = int(input(\"Enter the number of passwords required: \"))\n",
    "print(\"%-35s%-31s\" % (\"Password:\",\"Length:\")) \n",
    "\n",
    "for numpass in range(1, numPassword +1):\n",
    "  passwordAdj = r.word(include_categories=[\"adjective\"])\n",
    "  passwordNoun = r.word(include_categories=[\"noun\"])\n",
    "  passwordDig1 = str(random.choice(digits))\n",
    "  passwordDig2 = str(random.choice(digits))\n",
    "  punc1 = random.choice(punc)\n",
    "  punc2 = random.choice(punc)\n",
    "  newPassword = passwordAdj + passwordNoun + passwordDig1 + passwordDig2 + punc1 + punc2\n",
    "  charLength = len(passwordAdj + passwordNoun + passwordDig1 + passwordDig2 + punc1 + punc2)\n",
    "  print(\"%-35s%-31d\" % (newPassword, charLength))\n",
    "  numpass += 1"
   ]
  },
  {
   "cell_type": "markdown",
   "metadata": {
    "id": "XW2SOJyUagbK"
   },
   "source": [
    "**c)**  **[5 pts]** Write a code to print only the passwords with more than `14` characters and include either the letter 'o', the digit '3', or the punctuation symbol '~'.\n",
    "\n",
    "For example, the code would filter the `4` passwords listed in 4.a, and print the following output:\n",
    "\n",
    "| Password | Length |\n",
    "|:-|:-|\n",
    "| cheerfulmeet78~.  | 16|\n",
    "| glossytrain14$} | 15 |"
   ]
  },
  {
   "cell_type": "code",
   "execution_count": null,
   "metadata": {
    "execution": {
     "iopub.execute_input": "2022-01-18T02:34:46.340Z",
     "iopub.status.busy": "2022-01-18T02:34:46.329Z",
     "iopub.status.idle": "2022-01-18T02:34:46.351Z",
     "shell.execute_reply": "2022-01-18T02:34:45.930Z"
    },
    "id": "RrLXGguKalqY"
   },
   "outputs": [],
   "source": [
    "import wonderwords \n",
    "from wonderwords import RandomWord \n",
    "import random\n",
    "import string\n",
    "\n",
    "r = RandomWord()\n",
    "digits = list(range(0,10))\n",
    "punc = list(string.punctuation)\n",
    "\n",
    "numPassword = int(input(\"Enter the number of passwords required: \"))\n",
    "print(\"%-35s%-31s\" % (\"Password:\",\"Length:\")) \n",
    "\n",
    "for numpass in range(1, numPassword +1):\n",
    "    passwordAdj = r.word(include_categories=[\"adjective\"])\n",
    "    passwordNoun = r.word(include_categories=[\"noun\"])\n",
    "    passwordDig1 = str(random.choice(digits))\n",
    "    passwordDig2 = str(random.choice(digits))\n",
    "    punc1 = random.choice(punc)\n",
    "    punc2 = random.choice(punc)\n",
    "    newPassword = passwordAdj + passwordNoun + passwordDig1 + passwordDig2 + punc1 + punc2\n",
    "    charLength = len(newPassword)\n",
    "    return(newPassword, charLength)\n",
    "\n",
    "if 'o' or '3' or '~' in newPassword:\n",
    "    if charLength > 14:\n",
    "            print(\"%-35s%-31d\" % (newPassword, charLength))  \n",
    "    numpass += 1"
   ]
  },
  {
   "cell_type": "markdown",
   "metadata": {
    "id": "YQW0DA46e55A"
   },
   "source": [
    "**BONUS**  **[5 pts]** Design an encoder that encrypts the passwords generated in Q4.a. by changing their letters into the octal form.\n",
    "\n",
    "For example, if the user enters `4`, then the output might be as follows\n",
    "\n",
    "| Password | Encryption |\n",
    "|:-|:-|\n",
    "| supershine17*- | 0o1630o1650o1600o1450o1620o1630o1500o1510o1560o1450o610o670o520o55 |\n",
    "| cheerfulmeet78~. | 0o1430o1500o1450o1450o1620o1460o1650o1540o1550o1450o1450o1640o670o700o1760o56 |\n",
    "| elitemango32&, | 0o1450o1540o1510o1640o1450o1550o1410o1560o1470o1570o630o620o460o54 |\n",
    "| glossytrain14$} | 0o1470o1540o1570o1630o1630o1710o1640o1620o1410o1510o1560o610o640o440o175 |"
   ]
  },
  {
   "cell_type": "code",
   "execution_count": null,
   "metadata": {
    "execution": {
     "iopub.execute_input": "2022-01-18T02:34:46.376Z",
     "iopub.status.busy": "2022-01-18T02:34:46.364Z",
     "iopub.status.idle": "2022-01-18T02:34:46.386Z",
     "shell.execute_reply": "2022-01-18T02:34:45.944Z"
    },
    "id": "Tn2baaxZO5cs"
   },
   "outputs": [],
   "source": [
    "import wonderwords \n",
    "from wonderwords import RandomWord \n",
    "import random\n",
    "import string\n",
    "\n",
    "r = RandomWord()\n",
    "digits = list(range(0,10))\n",
    "punc = list(string.punctuation)\n",
    "\n",
    "def convertString(encryptList):                          # defining a function to convert list to string\n",
    "  encryptStr = \"\"\n",
    "  return(encryptStr.join(encryptList))\n",
    "\n",
    "numPassword = int(input(\"Enter the number of passwords required: \"))\n",
    "print(\"%-35s%-61s\" % (\"Password:\",\"Encryption:\")) \n",
    "\n",
    "for numpass in range(1, numPassword +1):\n",
    "  passwordAdj = r.word(include_categories=[\"adjective\"])\n",
    "  passwordNoun = r.word(include_categories=[\"noun\"])\n",
    "  passwordDig1 = str(random.choice(digits))\n",
    "  passwordDig2 = str(random.choice(digits))\n",
    "  punc1 = random.choice(punc)\n",
    "  punc2 = random.choice(punc)\n",
    "  newPassword = passwordAdj + passwordNoun + passwordDig1 + passwordDig2 + punc1 + punc2\n",
    "  encryptList = [oct(ord(char)) for char in newPassword]\n",
    "  pwEncrypt = convertString(encryptList)\n",
    "  print(\"%-35s%-61s\" % (newPassword, pwEncrypt))\n",
    "  numpass += 1"
   ]
  },
  {
   "cell_type": "markdown",
   "metadata": {
    "id": "5xhuXGfkgfuI"
   },
   "source": [
    "***"
   ]
  },
  {
   "cell_type": "markdown",
   "metadata": {
    "id": "MS4zegKigy6u"
   },
   "source": [
    "#### This is the end of assignment 1"
   ]
  }
 ],
 "metadata": {
  "colab": {
   "collapsed_sections": [],
   "name": "CIND830W22_Assignment1_Q.ipynb",
   "provenance": [],
   "toc_visible": true
  },
  "kernelspec": {
   "display_name": "Python 3",
   "language": "python",
   "name": "python3"
  },
  "language_info": {
   "codemirror_mode": {
    "name": "ipython",
    "version": 3
   },
   "file_extension": ".py",
   "mimetype": "text/x-python",
   "name": "python",
   "nbconvert_exporter": "python",
   "pygments_lexer": "ipython3",
   "version": "3.8.3"
  },
  "nteract": {
   "version": "0.28.0"
  },
  "varInspector": {
   "cols": {
    "lenName": 16,
    "lenType": 16,
    "lenVar": 40
   },
   "kernels_config": {
    "python": {
     "delete_cmd_postfix": "",
     "delete_cmd_prefix": "del ",
     "library": "var_list.py",
     "varRefreshCmd": "print(var_dic_list())"
    },
    "r": {
     "delete_cmd_postfix": ") ",
     "delete_cmd_prefix": "rm(",
     "library": "var_list.r",
     "varRefreshCmd": "cat(var_dic_list()) "
    }
   },
   "types_to_exclude": [
    "module",
    "function",
    "builtin_function_or_method",
    "instance",
    "_Feature"
   ],
   "window_display": false
  }
 },
 "nbformat": 4,
 "nbformat_minor": 1
}
