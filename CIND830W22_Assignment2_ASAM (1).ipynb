{
 "cells": [
  {
   "cell_type": "markdown",
   "metadata": {
    "id": "kJ6ssXaGJfGN"
   },
   "source": [
    "## CIND830 - Python Programming for Data Science  \n",
    "### Assignment 2 (10% of the final grade) \n",
    "### Due on March 07, 2022 11:59 PM "
   ]
  },
  {
   "cell_type": "markdown",
   "metadata": {
    "id": "UWjXw7DsJfGP"
   },
   "source": [
    "*****\n",
    "This is a Jupyter Notebook document that extends a simple formatting syntax for authoring HTML and PDF. Review [this](https://jupyter-notebook.readthedocs.io/en/stable/notebook.html) website for more details on using Jupyter Notebooks.\n",
    "\n",
    "Use the JupyterHub server on the Google Cloud Platform, provided by your designated instructor, for this assignment. Ensure using **Python 3.7** release or higher then complete the assignment by inserting your Python code wherever seeing the string `#INSERT YOUR ANSWER HERE.`\n",
    "\n",
    "When you click the `File` button, from the top navigation bar, then select `Export Notebook to HTML`, an HTML document will be generated that includes both the assignment content and the output of any embedded Python code chunks.\n",
    "\n",
    "Use [these](https://www.ryerson.ca/courses/students/tutorials/assignments/) guidelines to submit **both** the IPYNB and the exported file (HTML). Failing to submit both files will be subject to mark deduction.\n",
    "\n",
    "Please be advised that you cannot get more than 100% in this assignment, and the **BONUS** question (if there is any) will only be graded if all other questions have been submitted."
   ]
  },
  {
   "cell_type": "markdown",
   "metadata": {
    "id": "jPrZqSxgSWNr"
   },
   "source": [
    "*****\n"
   ]
  },
  {
   "cell_type": "markdown",
   "metadata": {
    "id": "Z5lAKTm6SWNs"
   },
   "source": [
    "### Question 1  **[25 pts]**:\n",
    "\n",
    "**a)**  **[10 pts]**  Write a Python program that converts a list of email addresses to a dictionary, where the keys are the usernames, and the values are the respective domains.\n",
    "\n",
    "For example:  If the user enters `harry@abc.com,larry@abc.ca,sally@abc.org`, then the output should be `{'harry': 'abc.com', 'larry': 'abc.ca', 'sally': 'abc.org'}`\n"
   ]
  },
  {
   "cell_type": "code",
   "execution_count": null,
   "metadata": {
    "colab": {
     "base_uri": "https://localhost:8080/"
    },
    "execution": {
     "iopub.execute_input": "2022-02-07T18:24:05.088Z",
     "iopub.status.busy": "2022-02-07T18:24:05.079Z",
     "iopub.status.idle": "2022-02-07T18:24:05.102Z",
     "shell.execute_reply": "2022-02-07T18:24:04.944Z"
    },
    "id": "VM1VhboJSWNs",
    "jupyter": {
     "outputs_hidden": false
    },
    "outputId": "3334eb58-b98e-4d66-a54e-52e381481bb5",
    "pycharm": {
     "name": "#%%\n"
    }
   },
   "outputs": [
    {
     "name": "stdout",
     "output_type": "stream",
     "text": [
      "Please enter email address. For multiple email addresses, please separate with a comma: harry@abc.com,larry@abc.ca,sally@abc.org\n",
      "{'harry': 'abc.com', 'larry': 'abc.ca', 'sally': 'abc.org'}\n"
     ]
    }
   ],
   "source": [
    "userInput1 = input(\"Please enter email address. For multiple email addresses, please separate with a comma: \")\n",
    "emailList = userInput1.split(',')\n",
    "newList = []\n",
    "[newList.extend(element.split('@')) for element in emailList]\n",
    "\n",
    "def List2Dict(emailList):\n",
    "    newDict = {emailList[i]: emailList[i + 1] for i in range(0, len(emailList), 2)}\n",
    "    return newDict\n",
    "\n",
    "print(List2Dict(newList))"
   ]
  },
  {
   "cell_type": "markdown",
   "metadata": {
    "id": "Or6tr66hSWNu"
   },
   "source": [
    "**b)**  **[10 pts]** Write a Python program to accept the length of a dictionary, then create key-value pairs where the key is a random integer in the range 1 to 100 and the value is the square of the integer.\n",
    "\n",
    "For example: If the user enters `5`, then the output should be `{68: 4624, 28: 784, 99: 9801, 15: 225, 6: 36}`"
   ]
  },
  {
   "cell_type": "code",
   "execution_count": null,
   "metadata": {
    "colab": {
     "base_uri": "https://localhost:8080/"
    },
    "execution": {
     "iopub.execute_input": "2022-02-07T18:24:05.127Z",
     "iopub.status.busy": "2022-02-07T18:24:05.118Z",
     "iopub.status.idle": "2022-02-07T18:24:05.141Z",
     "shell.execute_reply": "2022-02-07T18:24:04.957Z"
    },
    "id": "42NZR6xiSWNu",
    "jupyter": {
     "outputs_hidden": false
    },
    "outputId": "83b2347f-f7ee-4016-fd58-1a094b35087f",
    "pycharm": {
     "name": "#%%\n"
    }
   },
   "outputs": [
    {
     "name": "stdout",
     "output_type": "stream",
     "text": [
      "Please enter an integer length: 5\n",
      "{50: 2500, 63: 3969, 45: 2025, 99: 9801, 2: 4}\n"
     ]
    }
   ],
   "source": [
    "import random\n",
    "\n",
    "userLength = int(input(\"Please enter an integer length: \"))\n",
    "\n",
    "sqDict = {}\n",
    "for x in range(userLength):\n",
    "    x = random.randint(1,100)\n",
    "    sqDict[x] = x**2\n",
    "print(sqDict)"
   ]
  },
  {
   "cell_type": "markdown",
   "metadata": {
    "id": "MsDmMXKsSWNv"
   },
   "source": [
    "**c)**  **[5 pts]** List at least three diferences between a list and a dictionary.  Illustrate your work with simple examples."
   ]
  },
  {
   "cell_type": "markdown",
   "metadata": {
    "id": "4NC9Z-gnKS9M"
   },
   "source": [
    "1. A list is created by placing elements in [] separated by commas ',' while a dictionary is created by placing elements in {} as \"key\":\"value\" each key-value is a pair separated by commons ','\n",
    "2. A list's elements are accessed via indices while a dictionary's elements are accessed via key-values.\n",
    "2. A list's elements are mutable while dictionaries' key must be unique and immutable.\n",
    " \n"
   ]
  },
  {
   "cell_type": "code",
   "execution_count": null,
   "metadata": {
    "colab": {
     "base_uri": "https://localhost:8080/"
    },
    "execution": {
     "iopub.execute_input": "2022-02-07T18:24:05.175Z",
     "iopub.status.busy": "2022-02-07T18:24:05.162Z",
     "iopub.status.idle": "2022-02-07T18:24:05.189Z",
     "shell.execute_reply": "2022-02-07T18:24:04.969Z"
    },
    "id": "7XTyejHkSWNv",
    "jupyter": {
     "outputs_hidden": false
    },
    "outputId": "6f5b472f-4c32-4136-f50c-a01e2d9789c5",
    "pycharm": {
     "name": "#%%\n"
    }
   },
   "outputs": [
    {
     "name": "stdout",
     "output_type": "stream",
     "text": [
      "ListA:  ['Apple', '3', 5.0, [1, 2]]\n",
      "DictA:  {0: 'Apple', 1: '3', 'Two': 5.0, 3: [1, 2]}\n"
     ]
    }
   ],
   "source": [
    "# 1. A list is created by placing elements in [] separated by commas ',' while a \n",
    "# dictionary is created by placing elements in {} as \"key\":\"value\" each key-value \n",
    "# is a pair separated by commons ','\n",
    "ListA = ['Apple', '3', 5.0, [1,2]]\n",
    "DictA = {0: 'Apple', 1: '3', 'Two': 5.0, 3: [1,2]}\n",
    "print(\"ListA: \", ListA)\n",
    "print(\"DictA: \", DictA)"
   ]
  },
  {
   "cell_type": "code",
   "execution_count": null,
   "metadata": {
    "colab": {
     "base_uri": "https://localhost:8080/"
    },
    "id": "Ob6SKz5nR0dJ",
    "outputId": "18c96b76-74b9-4f45-8e96-88c21d338e2b"
   },
   "outputs": [
    {
     "name": "stdout",
     "output_type": "stream",
     "text": [
      "ListA[2]:  5.0\n",
      "DictA['Two']:  5.0\n"
     ]
    }
   ],
   "source": [
    "# 2. A list's elements are accessed via indices while a dictionary's elements \n",
    "# are accessed via key-values.\n",
    "print(\"ListA[2]: \", ListA[2])\n",
    "print(\"DictA['Two']: \", DictA['Two'])"
   ]
  },
  {
   "cell_type": "code",
   "execution_count": null,
   "metadata": {
    "colab": {
     "base_uri": "https://localhost:8080/",
     "height": 235
    },
    "id": "-GUNm5pnSh3W",
    "outputId": "67e16950-7f7b-4d5c-d686-5fbff5151100"
   },
   "outputs": [
    {
     "name": "stdout",
     "output_type": "stream",
     "text": [
      "['Apple', '3', 'Banana', 'Banana']\n"
     ]
    },
    {
     "ename": "TypeError",
     "evalue": "ignored",
     "output_type": "error",
     "traceback": [
      "\u001b[0;31m---------------------------------------------------------------------------\u001b[0m",
      "\u001b[0;31mTypeError\u001b[0m                                 Traceback (most recent call last)",
      "\u001b[0;32m<ipython-input-10-d38f8c861538>\u001b[0m in \u001b[0;36m<module>\u001b[0;34m()\u001b[0m\n\u001b[1;32m      2\u001b[0m \u001b[0mListA\u001b[0m\u001b[0;34m[\u001b[0m\u001b[0;36m2\u001b[0m\u001b[0;34m]\u001b[0m \u001b[0;34m=\u001b[0m \u001b[0;34m'Banana'\u001b[0m\u001b[0;34m\u001b[0m\u001b[0;34m\u001b[0m\u001b[0m\n\u001b[1;32m      3\u001b[0m \u001b[0mprint\u001b[0m\u001b[0;34m(\u001b[0m\u001b[0mListA\u001b[0m\u001b[0;34m)\u001b[0m\u001b[0;34m\u001b[0m\u001b[0;34m\u001b[0m\u001b[0m\n\u001b[0;32m----> 4\u001b[0;31m \u001b[0mDictB\u001b[0m \u001b[0;34m=\u001b[0m \u001b[0;34m{\u001b[0m\u001b[0;34m[\u001b[0m\u001b[0;36m1\u001b[0m\u001b[0;34m]\u001b[0m\u001b[0;34m:\u001b[0m \u001b[0;34m'Apple'\u001b[0m\u001b[0;34m,\u001b[0m \u001b[0;36m1\u001b[0m\u001b[0;34m:\u001b[0m \u001b[0;34m'3'\u001b[0m\u001b[0;34m,\u001b[0m \u001b[0;34m'Two'\u001b[0m\u001b[0;34m:\u001b[0m \u001b[0;36m5.0\u001b[0m\u001b[0;34m,\u001b[0m \u001b[0;36m3\u001b[0m\u001b[0;34m:\u001b[0m \u001b[0;34m[\u001b[0m\u001b[0;36m1\u001b[0m\u001b[0;34m,\u001b[0m\u001b[0;36m2\u001b[0m\u001b[0;34m]\u001b[0m\u001b[0;34m}\u001b[0m\u001b[0;34m\u001b[0m\u001b[0;34m\u001b[0m\u001b[0m\n\u001b[0m\u001b[1;32m      5\u001b[0m \u001b[0mprint\u001b[0m\u001b[0;34m(\u001b[0m\u001b[0mDictB\u001b[0m\u001b[0;34m)\u001b[0m\u001b[0;34m\u001b[0m\u001b[0;34m\u001b[0m\u001b[0m\n",
      "\u001b[0;31mTypeError\u001b[0m: unhashable type: 'list'"
     ]
    }
   ],
   "source": [
    "# A list's elements are mutable while dictionaries' key must be unique and immutable.\n",
    "ListA[2] = 'Banana'\n",
    "print(ListA)\n",
    "DictB = {[1]: 'Apple', 1: '3', 'Two': 5.0, 3: [1,2]}\n",
    "print(DictB)\n",
    "# Returns TypeError with an unhashable type: 'list' as a key in DictB"
   ]
  },
  {
   "cell_type": "markdown",
   "metadata": {
    "id": "3dSXAn_-S7is"
   },
   "source": [
    "*****"
   ]
  },
  {
   "cell_type": "markdown",
   "metadata": {
    "id": "bZTiEgmqpNPl"
   },
   "source": [
    "### Question 2  **[25 pts]**:\n",
    "\n",
    "The data file used in this question is downloaded from (https://www.kaggle.com/aungpyaeap/supermarket-sales) and converted to a CSV file.  The [`supermarket_sales.csv`](https://app.box.com/s/f4hcfkferizntbev3ou8hso6nyfccf74) is a delimited text file containing the historical record of sales data in three supermarkets. The file contains the following columns separated by the comma character `,`\n",
    "* Invoice id: Computer-generated sales slip invoice identification number\n",
    "* Branch: Branch of supercenter (3 branches are available identified by A, B and C)\n",
    "* City: Location of supercenters\n",
    "* Customer type: Type of customers, recorded by Members for customers using member card and Normal for without member card\n",
    "* Gender: Gender type of customer\n",
    "* Product line: General item categorization groups - Electronic accessories, Fashion accessories, Food and beverages, Health and beauty, Home and Lifestyle, Sports and travel\n",
    "* Unit price: The price of each product in $\n",
    "* Quantity: Number of products purchased by the customer\n",
    "* Tax: 5% tax fee for customer buying\n",
    "* Total: Total price including tax\n",
    "* Date: Date of purchase (Record available from January 2019 to March 2019)\n",
    "* Time: Purchase time (10am to 9pm)\n",
    "* Payment: Payment used by customer for purchase (3 methods are available – Cash, Credit card and Ewallet)\n",
    "* COGS: Cost of goods sold\n",
    "* Gross margin percentage: Gross margin percentage\n",
    "* Gross income: Gross income\n",
    "* Rating: Customer satisfaction rating on their overall shopping experience (On a scale of 1 to 10)\n",
    "\n",
    "Note: Only Python [built-in functions](https://docs.python.org/3.7/library/functions.html) or [standard modules](https://docs.python.org/3.7/py-modindex.html) are allowed to be used in this question. Do not use a third-party library for any part of the code. Importing any third-party library will result in marks deduction."
   ]
  },
  {
   "cell_type": "markdown",
   "metadata": {
    "id": "FB9hQo8CzipU"
   },
   "source": [
    "**a)**  **[10 pts]**  Write a Python function that reads the Supermarket Sales data into a 2 dimensional structure.\n",
    "\n",
    "Note: The first line of the CSV contains the column headings, therefore it should not be stored in the 2 dimensional data list. You can skip the first line of the data file"
   ]
  },
  {
   "cell_type": "code",
   "execution_count": null,
   "metadata": {
    "colab": {
     "base_uri": "https://localhost:8080/",
     "height": 74,
     "resources": {
      "http://localhost:8080/nbextensions/google.colab/files.js": {
       "data": "Ly8gQ29weXJpZ2h0IDIwMTcgR29vZ2xlIExMQwovLwovLyBMaWNlbnNlZCB1bmRlciB0aGUgQXBhY2hlIExpY2Vuc2UsIFZlcnNpb24gMi4wICh0aGUgIkxpY2Vuc2UiKTsKLy8geW91IG1heSBub3QgdXNlIHRoaXMgZmlsZSBleGNlcHQgaW4gY29tcGxpYW5jZSB3aXRoIHRoZSBMaWNlbnNlLgovLyBZb3UgbWF5IG9idGFpbiBhIGNvcHkgb2YgdGhlIExpY2Vuc2UgYXQKLy8KLy8gICAgICBodHRwOi8vd3d3LmFwYWNoZS5vcmcvbGljZW5zZXMvTElDRU5TRS0yLjAKLy8KLy8gVW5sZXNzIHJlcXVpcmVkIGJ5IGFwcGxpY2FibGUgbGF3IG9yIGFncmVlZCB0byBpbiB3cml0aW5nLCBzb2Z0d2FyZQovLyBkaXN0cmlidXRlZCB1bmRlciB0aGUgTGljZW5zZSBpcyBkaXN0cmlidXRlZCBvbiBhbiAiQVMgSVMiIEJBU0lTLAovLyBXSVRIT1VUIFdBUlJBTlRJRVMgT1IgQ09ORElUSU9OUyBPRiBBTlkgS0lORCwgZWl0aGVyIGV4cHJlc3Mgb3IgaW1wbGllZC4KLy8gU2VlIHRoZSBMaWNlbnNlIGZvciB0aGUgc3BlY2lmaWMgbGFuZ3VhZ2UgZ292ZXJuaW5nIHBlcm1pc3Npb25zIGFuZAovLyBsaW1pdGF0aW9ucyB1bmRlciB0aGUgTGljZW5zZS4KCi8qKgogKiBAZmlsZW92ZXJ2aWV3IEhlbHBlcnMgZm9yIGdvb2dsZS5jb2xhYiBQeXRob24gbW9kdWxlLgogKi8KKGZ1bmN0aW9uKHNjb3BlKSB7CmZ1bmN0aW9uIHNwYW4odGV4dCwgc3R5bGVBdHRyaWJ1dGVzID0ge30pIHsKICBjb25zdCBlbGVtZW50ID0gZG9jdW1lbnQuY3JlYXRlRWxlbWVudCgnc3BhbicpOwogIGVsZW1lbnQudGV4dENvbnRlbnQgPSB0ZXh0OwogIGZvciAoY29uc3Qga2V5IG9mIE9iamVjdC5rZXlzKHN0eWxlQXR0cmlidXRlcykpIHsKICAgIGVsZW1lbnQuc3R5bGVba2V5XSA9IHN0eWxlQXR0cmlidXRlc1trZXldOwogIH0KICByZXR1cm4gZWxlbWVudDsKfQoKLy8gTWF4IG51bWJlciBvZiBieXRlcyB3aGljaCB3aWxsIGJlIHVwbG9hZGVkIGF0IGEgdGltZS4KY29uc3QgTUFYX1BBWUxPQURfU0laRSA9IDEwMCAqIDEwMjQ7CgpmdW5jdGlvbiBfdXBsb2FkRmlsZXMoaW5wdXRJZCwgb3V0cHV0SWQpIHsKICBjb25zdCBzdGVwcyA9IHVwbG9hZEZpbGVzU3RlcChpbnB1dElkLCBvdXRwdXRJZCk7CiAgY29uc3Qgb3V0cHV0RWxlbWVudCA9IGRvY3VtZW50LmdldEVsZW1lbnRCeUlkKG91dHB1dElkKTsKICAvLyBDYWNoZSBzdGVwcyBvbiB0aGUgb3V0cHV0RWxlbWVudCB0byBtYWtlIGl0IGF2YWlsYWJsZSBmb3IgdGhlIG5leHQgY2FsbAogIC8vIHRvIHVwbG9hZEZpbGVzQ29udGludWUgZnJvbSBQeXRob24uCiAgb3V0cHV0RWxlbWVudC5zdGVwcyA9IHN0ZXBzOwoKICByZXR1cm4gX3VwbG9hZEZpbGVzQ29udGludWUob3V0cHV0SWQpOwp9CgovLyBUaGlzIGlzIHJvdWdobHkgYW4gYXN5bmMgZ2VuZXJhdG9yIChub3Qgc3VwcG9ydGVkIGluIHRoZSBicm93c2VyIHlldCksCi8vIHdoZXJlIHRoZXJlIGFyZSBtdWx0aXBsZSBhc3luY2hyb25vdXMgc3RlcHMgYW5kIHRoZSBQeXRob24gc2lkZSBpcyBnb2luZwovLyB0byBwb2xsIGZvciBjb21wbGV0aW9uIG9mIGVhY2ggc3RlcC4KLy8gVGhpcyB1c2VzIGEgUHJvbWlzZSB0byBibG9jayB0aGUgcHl0aG9uIHNpZGUgb24gY29tcGxldGlvbiBvZiBlYWNoIHN0ZXAsCi8vIHRoZW4gcGFzc2VzIHRoZSByZXN1bHQgb2YgdGhlIHByZXZpb3VzIHN0ZXAgYXMgdGhlIGlucHV0IHRvIHRoZSBuZXh0IHN0ZXAuCmZ1bmN0aW9uIF91cGxvYWRGaWxlc0NvbnRpbnVlKG91dHB1dElkKSB7CiAgY29uc3Qgb3V0cHV0RWxlbWVudCA9IGRvY3VtZW50LmdldEVsZW1lbnRCeUlkKG91dHB1dElkKTsKICBjb25zdCBzdGVwcyA9IG91dHB1dEVsZW1lbnQuc3RlcHM7CgogIGNvbnN0IG5leHQgPSBzdGVwcy5uZXh0KG91dHB1dEVsZW1lbnQubGFzdFByb21pc2VWYWx1ZSk7CiAgcmV0dXJuIFByb21pc2UucmVzb2x2ZShuZXh0LnZhbHVlLnByb21pc2UpLnRoZW4oKHZhbHVlKSA9PiB7CiAgICAvLyBDYWNoZSB0aGUgbGFzdCBwcm9taXNlIHZhbHVlIHRvIG1ha2UgaXQgYXZhaWxhYmxlIHRvIHRoZSBuZXh0CiAgICAvLyBzdGVwIG9mIHRoZSBnZW5lcmF0b3IuCiAgICBvdXRwdXRFbGVtZW50Lmxhc3RQcm9taXNlVmFsdWUgPSB2YWx1ZTsKICAgIHJldHVybiBuZXh0LnZhbHVlLnJlc3BvbnNlOwogIH0pOwp9CgovKioKICogR2VuZXJhdG9yIGZ1bmN0aW9uIHdoaWNoIGlzIGNhbGxlZCBiZXR3ZWVuIGVhY2ggYXN5bmMgc3RlcCBvZiB0aGUgdXBsb2FkCiAqIHByb2Nlc3MuCiAqIEBwYXJhbSB7c3RyaW5nfSBpbnB1dElkIEVsZW1lbnQgSUQgb2YgdGhlIGlucHV0IGZpbGUgcGlja2VyIGVsZW1lbnQuCiAqIEBwYXJhbSB7c3RyaW5nfSBvdXRwdXRJZCBFbGVtZW50IElEIG9mIHRoZSBvdXRwdXQgZGlzcGxheS4KICogQHJldHVybiB7IUl0ZXJhYmxlPCFPYmplY3Q+fSBJdGVyYWJsZSBvZiBuZXh0IHN0ZXBzLgogKi8KZnVuY3Rpb24qIHVwbG9hZEZpbGVzU3RlcChpbnB1dElkLCBvdXRwdXRJZCkgewogIGNvbnN0IGlucHV0RWxlbWVudCA9IGRvY3VtZW50LmdldEVsZW1lbnRCeUlkKGlucHV0SWQpOwogIGlucHV0RWxlbWVudC5kaXNhYmxlZCA9IGZhbHNlOwoKICBjb25zdCBvdXRwdXRFbGVtZW50ID0gZG9jdW1lbnQuZ2V0RWxlbWVudEJ5SWQob3V0cHV0SWQpOwogIG91dHB1dEVsZW1lbnQuaW5uZXJIVE1MID0gJyc7CgogIGNvbnN0IHBpY2tlZFByb21pc2UgPSBuZXcgUHJvbWlzZSgocmVzb2x2ZSkgPT4gewogICAgaW5wdXRFbGVtZW50LmFkZEV2ZW50TGlzdGVuZXIoJ2NoYW5nZScsIChlKSA9PiB7CiAgICAgIHJlc29sdmUoZS50YXJnZXQuZmlsZXMpOwogICAgfSk7CiAgfSk7CgogIGNvbnN0IGNhbmNlbCA9IGRvY3VtZW50LmNyZWF0ZUVsZW1lbnQoJ2J1dHRvbicpOwogIGlucHV0RWxlbWVudC5wYXJlbnRFbGVtZW50LmFwcGVuZENoaWxkKGNhbmNlbCk7CiAgY2FuY2VsLnRleHRDb250ZW50ID0gJ0NhbmNlbCB1cGxvYWQnOwogIGNvbnN0IGNhbmNlbFByb21pc2UgPSBuZXcgUHJvbWlzZSgocmVzb2x2ZSkgPT4gewogICAgY2FuY2VsLm9uY2xpY2sgPSAoKSA9PiB7CiAgICAgIHJlc29sdmUobnVsbCk7CiAgICB9OwogIH0pOwoKICAvLyBXYWl0IGZvciB0aGUgdXNlciB0byBwaWNrIHRoZSBmaWxlcy4KICBjb25zdCBmaWxlcyA9IHlpZWxkIHsKICAgIHByb21pc2U6IFByb21pc2UucmFjZShbcGlja2VkUHJvbWlzZSwgY2FuY2VsUHJvbWlzZV0pLAogICAgcmVzcG9uc2U6IHsKICAgICAgYWN0aW9uOiAnc3RhcnRpbmcnLAogICAgfQogIH07CgogIGNhbmNlbC5yZW1vdmUoKTsKCiAgLy8gRGlzYWJsZSB0aGUgaW5wdXQgZWxlbWVudCBzaW5jZSBmdXJ0aGVyIHBpY2tzIGFyZSBub3QgYWxsb3dlZC4KICBpbnB1dEVsZW1lbnQuZGlzYWJsZWQgPSB0cnVlOwoKICBpZiAoIWZpbGVzKSB7CiAgICByZXR1cm4gewogICAgICByZXNwb25zZTogewogICAgICAgIGFjdGlvbjogJ2NvbXBsZXRlJywKICAgICAgfQogICAgfTsKICB9CgogIGZvciAoY29uc3QgZmlsZSBvZiBmaWxlcykgewogICAgY29uc3QgbGkgPSBkb2N1bWVudC5jcmVhdGVFbGVtZW50KCdsaScpOwogICAgbGkuYXBwZW5kKHNwYW4oZmlsZS5uYW1lLCB7Zm9udFdlaWdodDogJ2JvbGQnfSkpOwogICAgbGkuYXBwZW5kKHNwYW4oCiAgICAgICAgYCgke2ZpbGUudHlwZSB8fCAnbi9hJ30pIC0gJHtmaWxlLnNpemV9IGJ5dGVzLCBgICsKICAgICAgICBgbGFzdCBtb2RpZmllZDogJHsKICAgICAgICAgICAgZmlsZS5sYXN0TW9kaWZpZWREYXRlID8gZmlsZS5sYXN0TW9kaWZpZWREYXRlLnRvTG9jYWxlRGF0ZVN0cmluZygpIDoKICAgICAgICAgICAgICAgICAgICAgICAgICAgICAgICAgICAgJ24vYSd9IC0gYCkpOwogICAgY29uc3QgcGVyY2VudCA9IHNwYW4oJzAlIGRvbmUnKTsKICAgIGxpLmFwcGVuZENoaWxkKHBlcmNlbnQpOwoKICAgIG91dHB1dEVsZW1lbnQuYXBwZW5kQ2hpbGQobGkpOwoKICAgIGNvbnN0IGZpbGVEYXRhUHJvbWlzZSA9IG5ldyBQcm9taXNlKChyZXNvbHZlKSA9PiB7CiAgICAgIGNvbnN0IHJlYWRlciA9IG5ldyBGaWxlUmVhZGVyKCk7CiAgICAgIHJlYWRlci5vbmxvYWQgPSAoZSkgPT4gewogICAgICAgIHJlc29sdmUoZS50YXJnZXQucmVzdWx0KTsKICAgICAgfTsKICAgICAgcmVhZGVyLnJlYWRBc0FycmF5QnVmZmVyKGZpbGUpOwogICAgfSk7CiAgICAvLyBXYWl0IGZvciB0aGUgZGF0YSB0byBiZSByZWFkeS4KICAgIGxldCBmaWxlRGF0YSA9IHlpZWxkIHsKICAgICAgcHJvbWlzZTogZmlsZURhdGFQcm9taXNlLAogICAgICByZXNwb25zZTogewogICAgICAgIGFjdGlvbjogJ2NvbnRpbnVlJywKICAgICAgfQogICAgfTsKCiAgICAvLyBVc2UgYSBjaHVua2VkIHNlbmRpbmcgdG8gYXZvaWQgbWVzc2FnZSBzaXplIGxpbWl0cy4gU2VlIGIvNjIxMTU2NjAuCiAgICBsZXQgcG9zaXRpb24gPSAwOwogICAgZG8gewogICAgICBjb25zdCBsZW5ndGggPSBNYXRoLm1pbihmaWxlRGF0YS5ieXRlTGVuZ3RoIC0gcG9zaXRpb24sIE1BWF9QQVlMT0FEX1NJWkUpOwogICAgICBjb25zdCBjaHVuayA9IG5ldyBVaW50OEFycmF5KGZpbGVEYXRhLCBwb3NpdGlvbiwgbGVuZ3RoKTsKICAgICAgcG9zaXRpb24gKz0gbGVuZ3RoOwoKICAgICAgY29uc3QgYmFzZTY0ID0gYnRvYShTdHJpbmcuZnJvbUNoYXJDb2RlLmFwcGx5KG51bGwsIGNodW5rKSk7CiAgICAgIHlpZWxkIHsKICAgICAgICByZXNwb25zZTogewogICAgICAgICAgYWN0aW9uOiAnYXBwZW5kJywKICAgICAgICAgIGZpbGU6IGZpbGUubmFtZSwKICAgICAgICAgIGRhdGE6IGJhc2U2NCwKICAgICAgICB9LAogICAgICB9OwoKICAgICAgbGV0IHBlcmNlbnREb25lID0gZmlsZURhdGEuYnl0ZUxlbmd0aCA9PT0gMCA/CiAgICAgICAgICAxMDAgOgogICAgICAgICAgTWF0aC5yb3VuZCgocG9zaXRpb24gLyBmaWxlRGF0YS5ieXRlTGVuZ3RoKSAqIDEwMCk7CiAgICAgIHBlcmNlbnQudGV4dENvbnRlbnQgPSBgJHtwZXJjZW50RG9uZX0lIGRvbmVgOwoKICAgIH0gd2hpbGUgKHBvc2l0aW9uIDwgZmlsZURhdGEuYnl0ZUxlbmd0aCk7CiAgfQoKICAvLyBBbGwgZG9uZS4KICB5aWVsZCB7CiAgICByZXNwb25zZTogewogICAgICBhY3Rpb246ICdjb21wbGV0ZScsCiAgICB9CiAgfTsKfQoKc2NvcGUuZ29vZ2xlID0gc2NvcGUuZ29vZ2xlIHx8IHt9OwpzY29wZS5nb29nbGUuY29sYWIgPSBzY29wZS5nb29nbGUuY29sYWIgfHwge307CnNjb3BlLmdvb2dsZS5jb2xhYi5fZmlsZXMgPSB7CiAgX3VwbG9hZEZpbGVzLAogIF91cGxvYWRGaWxlc0NvbnRpbnVlLAp9Owp9KShzZWxmKTsK",
       "headers": [
        [
         "content-type",
         "application/javascript"
        ]
       ],
       "ok": true,
       "status": 200,
       "status_text": ""
      }
     }
    },
    "id": "cERnA5HnD1hO",
    "outputId": "90fc93ed-66c2-4e97-99fc-fc358096cc19"
   },
   "outputs": [
    {
     "data": {
      "text/html": [
       "\n",
       "     <input type=\"file\" id=\"files-01ee7279-6471-4051-aea8-0e7857318f6e\" name=\"files[]\" multiple disabled\n",
       "        style=\"border:none\" />\n",
       "     <output id=\"result-01ee7279-6471-4051-aea8-0e7857318f6e\">\n",
       "      Upload widget is only available when the cell has been executed in the\n",
       "      current browser session. Please rerun this cell to enable.\n",
       "      </output>\n",
       "      <script src=\"/nbextensions/google.colab/files.js\"></script> "
      ],
      "text/plain": [
       "<IPython.core.display.HTML object>"
      ]
     },
     "metadata": {},
     "output_type": "display_data"
    },
    {
     "name": "stdout",
     "output_type": "stream",
     "text": [
      "Saving supermarket_sales.csv to supermarket_sales.csv\n"
     ]
    }
   ],
   "source": [
    "from google.colab import files\n",
    "uploaded = files.upload()"
   ]
  },
  {
   "cell_type": "code",
   "execution_count": null,
   "metadata": {
    "colab": {
     "base_uri": "https://localhost:8080/"
    },
    "id": "ZmHa636XTkHL",
    "outputId": "e4b9a4c7-4493-4984-92be-87af2adff28d"
   },
   "outputs": [
    {
     "name": "stdout",
     "output_type": "stream",
     "text": [
      "              0  1          2       3       4                       5      6   \\\n",
      "0    750-67-8428  A     Yangon  Member  Female       Health and beauty  74.69   \n",
      "1    226-31-3081  C  Naypyitaw  Normal  Female  Electronic accessories  15.28   \n",
      "2    631-41-3108  A     Yangon  Normal    Male      Home and lifestyle  46.33   \n",
      "3    123-19-1176  A     Yangon  Member    Male       Health and beauty  58.22   \n",
      "4    373-73-7910  A     Yangon  Normal    Male       Sports and travel  86.31   \n",
      "..           ... ..        ...     ...     ...                     ...    ...   \n",
      "995  233-67-5758  C  Naypyitaw  Normal    Male       Health and beauty  40.35   \n",
      "996  303-96-2227  B   Mandalay  Normal  Female      Home and lifestyle  97.38   \n",
      "997  727-02-1313  A     Yangon  Member    Male      Food and beverages  31.84   \n",
      "998  347-56-2442  A     Yangon  Normal    Male      Home and lifestyle  65.82   \n",
      "999  849-09-3807  A     Yangon  Member  Female     Fashion accessories  88.34   \n",
      "\n",
      "     7        8          9          10     11           12      13        14  \\\n",
      "0     7  26.1415   548.9715   1/5/2019  13:08      Ewallet  522.83  4.761905   \n",
      "1     5   3.8200    80.2200   3/8/2019  10:29         Cash   76.40  4.761905   \n",
      "2     7  16.2155   340.5255   3/3/2019  13:23  Credit card  324.31  4.761905   \n",
      "3     8  23.2880   489.0480  1/27/2019  20:33      Ewallet  465.76  4.761905   \n",
      "4     7  30.2085   634.3785   2/8/2019  10:37      Ewallet  604.17  4.761905   \n",
      "..   ..      ...        ...        ...    ...          ...     ...       ...   \n",
      "995   1   2.0175    42.3675  1/29/2019  13:46      Ewallet   40.35  4.761905   \n",
      "996  10  48.6900  1022.4900   3/2/2019  17:16      Ewallet  973.80  4.761905   \n",
      "997   1   1.5920    33.4320   2/9/2019  13:22         Cash   31.84  4.761905   \n",
      "998   1   3.2910    69.1110  2/22/2019  15:33         Cash   65.82  4.761905   \n",
      "999   7  30.9190   649.2990  2/18/2019  13:28         Cash  618.38  4.761905   \n",
      "\n",
      "          15   16  \n",
      "0    26.1415  9.1  \n",
      "1     3.8200  9.6  \n",
      "2    16.2155  7.4  \n",
      "3    23.2880  8.4  \n",
      "4    30.2085  5.3  \n",
      "..       ...  ...  \n",
      "995   2.0175  6.2  \n",
      "996  48.6900  4.4  \n",
      "997   1.5920  7.7  \n",
      "998   3.2910  4.1  \n",
      "999  30.9190  6.6  \n",
      "\n",
      "[1000 rows x 17 columns]\n"
     ]
    }
   ],
   "source": [
    "import pandas as pd\n",
    "\n",
    "def csvReader(csvFile):\n",
    "  \"\"\" CSV File Reader \"\"\"\n",
    "  data = pd.read_csv(csvFile, skiprows = 1, header = None)\n",
    "  return data\n",
    "\n",
    "csvReader(\"supermarket_sales.csv\")\n"
   ]
  },
  {
   "cell_type": "markdown",
   "metadata": {
    "id": "xSCFrZQjqd5r"
   },
   "source": [
    "**b)**  **[5 pts]**  Write a function to receive the Supermarket Sales list (that you created in the previous question) and return the total sales (the sum of column `Total`) of the branches as a dictionary\n",
    "\n",
    "The returned information should look like (the numbers given below may not be correct):  \n",
    "{\"A\": 123456.123, \"B\": 234567.567, \"C\": 345678.9987}"
   ]
  },
  {
   "cell_type": "code",
   "execution_count": null,
   "metadata": {
    "colab": {
     "base_uri": "https://localhost:8080/"
    },
    "execution": {
     "iopub.execute_input": "2022-02-07T18:24:05.260Z",
     "iopub.status.busy": "2022-02-07T18:24:05.250Z",
     "iopub.status.idle": "2022-02-07T18:24:05.269Z",
     "shell.execute_reply": "2022-02-07T18:24:04.990Z"
    },
    "id": "braxNFZk0iFe",
    "outputId": "af65ca6d-091d-4513-c2e0-0b86f44bb789"
   },
   "outputs": [
    {
     "data": {
      "text/plain": [
       "{'A': 106200.37, 'B': 106197.67, 'C': 110568.71}"
      ]
     },
     "execution_count": 72,
     "metadata": {},
     "output_type": "execute_result"
    }
   ],
   "source": [
    "df = csvReader(\"supermarket_sales.csv\")\n",
    "\n",
    "def SumOfSales(data_frame):\n",
    "  \"\"\" Returns the sum of values from the Total Sales column from\n",
    "      the Branches as a dictionary \"\"\"\n",
    "  totalDf = data_frame.iloc[:, [1,9]]\n",
    "  branchA = totalDf[totalDf[1] == 'A']\n",
    "  branchB = totalDf[totalDf[1] == 'B']\n",
    "  branchC = totalDf[totalDf[1] == 'C']\n",
    "  \n",
    "  salesTotal_dict = {\"A\": round(branchA[9].sum(), 2), \"B\": round(branchB[9].sum(), 2), \"C\": round(branchC[9].sum(), 2)}\n",
    "  return salesTotal_dict\n",
    "\n",
    "SumOfSales(df)\n"
   ]
  },
  {
   "cell_type": "markdown",
   "metadata": {
    "id": "QW7PxwIV0ifq"
   },
   "source": [
    "**c)  [5 pts]** Write a function to receive the Supermarket Sales list and return an object (maybe a list or a dictionary) containing the total number of sales per Branch and per Customer Type.\n",
    "\n",
    "The returned information can be either one of the below choices or another (The numbers given below may not be correct):)\n",
    "* a dictionary like {\"A\": {\"Member\": 230, \"Normal\": 351}, \"B\": {\"Member\": 123, \"Normal\": 117},  \"C\": {\"Member\": 335, \"Normal\": 18}}\n",
    "* a list like [ [230, 351], [123, 117], [335, 18]]\n",
    "\n",
    "You need to consider the best structure to return since you will be displaying this information in a human-readable format in the following question. "
   ]
  },
  {
   "cell_type": "code",
   "execution_count": null,
   "metadata": {
    "colab": {
     "base_uri": "https://localhost:8080/"
    },
    "execution": {
     "iopub.execute_input": "2022-02-07T18:24:05.290Z",
     "iopub.status.busy": "2022-02-07T18:24:05.283Z",
     "iopub.status.idle": "2022-02-07T18:24:05.298Z",
     "shell.execute_reply": "2022-02-07T18:24:05.003Z"
    },
    "id": "e96bPxDw2TUr",
    "outputId": "2e573e73-db5f-4805-a447-4e8ee585faa7"
   },
   "outputs": [
    {
     "data": {
      "text/plain": [
       "{'A': {'Member': 53637.48, 'Normal': 52562.9},\n",
       " 'B': {'Member': 53704.69, 'Normal': 52492.99},\n",
       " 'C': {'Member': 56881.28, 'Normal': 53687.42}}"
      ]
     },
     "execution_count": 71,
     "metadata": {},
     "output_type": "execute_result"
    }
   ],
   "source": [
    "df = csvReader(\"supermarket_sales.csv\")\n",
    "\n",
    "def branchSales_custType(data_frame):\n",
    "  \"\"\" Returns a dictionary with the branch's total sales \n",
    "      for the customer type \"\"\"\n",
    "  totalDf = data_frame.iloc[:, [1,3,9]]\n",
    "  bA_mem = totalDf[(totalDf[1] == 'A') & (totalDf[3] == 'Member')]\n",
    "  bA_nor = totalDf[(totalDf[1] == 'A') & (totalDf[3] == 'Normal')]\n",
    "  bB_mem = totalDf[(totalDf[1] == 'B') & (totalDf[3] == 'Member')]\n",
    "  bB_nor = totalDf[(totalDf[1] == 'B') & (totalDf[3] == 'Normal')]\n",
    "  bC_mem = totalDf[(totalDf[1] == 'C') & (totalDf[3] == 'Member')]\n",
    "  bC_nor = totalDf[(totalDf[1] == 'C') & (totalDf[3] == 'Normal')]\n",
    "\n",
    "  saleCustomer_dict = {\"A\": {\"Member\": round(bA_mem[9].sum(), 2), \"Normal\": round(bA_nor[9].sum(), 2)},\n",
    "                       \"B\": {\"Member\": round(bB_mem[9].sum(), 2), \"Normal\": round(bB_nor[9].sum(), 2)},\n",
    "                       \"C\": {\"Member\": round(bC_mem[9].sum(), 2), \"Normal\": round(bC_nor[9].sum(), 2)}}\n",
    "  return saleCustomer_dict\n",
    "\n",
    "branchSales_custType(df)"
   ]
  },
  {
   "cell_type": "markdown",
   "metadata": {
    "id": "KJWHpLk62UPN"
   },
   "source": [
    "**d) [5 pts]** Write a Python program to do the following:\n",
    "* Call the function you wrote in **a)** to read the data file\n",
    "* Call the function you wrote in **b)** to calculate the total sales information and display the information on the screen\n",
    "* Call the function you wrote in **c)** to calculate the total number of sales per Branch and per Customer Type and display the information on the screen\n",
    "\n",
    "Note: While displaying the information on the screen, the outputs should be human-readable and understandable (e.g. column headings, row names)"
   ]
  },
  {
   "cell_type": "code",
   "execution_count": null,
   "metadata": {
    "colab": {
     "base_uri": "https://localhost:8080/"
    },
    "execution": {
     "iopub.execute_input": "2022-02-07T18:24:05.322Z",
     "iopub.status.busy": "2022-02-07T18:24:05.313Z",
     "iopub.status.idle": "2022-02-07T18:24:05.330Z",
     "shell.execute_reply": "2022-02-07T18:24:05.016Z"
    },
    "id": "atRhvBaZ4w9c",
    "outputId": "8d419bcd-425e-42c0-8af8-178f71a2c573"
   },
   "outputs": [
    {
     "name": "stdout",
     "output_type": "stream",
     "text": [
      "The Supermarket Sales Dataframe:\n",
      "      Invoice ID Branch       City Customer  Gender            Product Line  \\\n",
      "0    750-67-8428      A     Yangon   Member  Female       Health and beauty   \n",
      "1    226-31-3081      C  Naypyitaw   Normal  Female  Electronic accessories   \n",
      "2    631-41-3108      A     Yangon   Normal    Male      Home and lifestyle   \n",
      "3    123-19-1176      A     Yangon   Member    Male       Health and beauty   \n",
      "4    373-73-7910      A     Yangon   Normal    Male       Sports and travel   \n",
      "..           ...    ...        ...      ...     ...                     ...   \n",
      "995  233-67-5758      C  Naypyitaw   Normal    Male       Health and beauty   \n",
      "996  303-96-2227      B   Mandalay   Normal  Female      Home and lifestyle   \n",
      "997  727-02-1313      A     Yangon   Member    Male      Food and beverages   \n",
      "998  347-56-2442      A     Yangon   Normal    Male      Home and lifestyle   \n",
      "999  849-09-3807      A     Yangon   Member  Female     Fashion accessories   \n",
      "\n",
      "     Unit Price  Quantity   Tax 5%      Total       Date   Time      Payment  \\\n",
      "0         74.69         7  26.1415   548.9715   1/5/2019  13:08      Ewallet   \n",
      "1         15.28         5   3.8200    80.2200   3/8/2019  10:29         Cash   \n",
      "2         46.33         7  16.2155   340.5255   3/3/2019  13:23  Credit card   \n",
      "3         58.22         8  23.2880   489.0480  1/27/2019  20:33      Ewallet   \n",
      "4         86.31         7  30.2085   634.3785   2/8/2019  10:37      Ewallet   \n",
      "..          ...       ...      ...        ...        ...    ...          ...   \n",
      "995       40.35         1   2.0175    42.3675  1/29/2019  13:46      Ewallet   \n",
      "996       97.38        10  48.6900  1022.4900   3/2/2019  17:16      Ewallet   \n",
      "997       31.84         1   1.5920    33.4320   2/9/2019  13:22         Cash   \n",
      "998       65.82         1   3.2910    69.1110  2/22/2019  15:33         Cash   \n",
      "999       88.34         7  30.9190   649.2990  2/18/2019  13:28         Cash   \n",
      "\n",
      "       cogs  Gross Margin %  Gross Income  Rating  \n",
      "0    522.83        4.761905       26.1415     9.1  \n",
      "1     76.40        4.761905        3.8200     9.6  \n",
      "2    324.31        4.761905       16.2155     7.4  \n",
      "3    465.76        4.761905       23.2880     8.4  \n",
      "4    604.17        4.761905       30.2085     5.3  \n",
      "..      ...             ...           ...     ...  \n",
      "995   40.35        4.761905        2.0175     6.2  \n",
      "996  973.80        4.761905       48.6900     4.4  \n",
      "997   31.84        4.761905        1.5920     7.7  \n",
      "998   65.82        4.761905        3.2910     4.1  \n",
      "999  618.38        4.761905       30.9190     6.6  \n",
      "\n",
      "[1000 rows x 17 columns]\n",
      "\n",
      "\n",
      "The Total Sales for each Branch are:\n",
      "  Branch  Total Sales $\n",
      "0      A      106200.37\n",
      "1      B      106197.67\n",
      "2      C      110568.71\n",
      "\n",
      "\n",
      "The Total Sales for each Branch are by Customer Type are:\n",
      "  Branch             Customer Type & Total Sales $\n",
      "0      A   {'Member': 53637.48, 'Normal': 52562.9}\n",
      "1      B  {'Member': 53704.69, 'Normal': 52492.99}\n",
      "2      C  {'Member': 56881.28, 'Normal': 53687.42}\n"
     ]
    }
   ],
   "source": [
    "def displayAll(csvFile):\n",
    "  \"\"\" Displays all three predefined functions:\n",
    "      1. Reads the data file\n",
    "      2. Calculates the sum of the total sales\n",
    "      3. Calculates the total of sales per branch per customer type \"\"\"\n",
    "  pt1 = csvReader(csvFile)\n",
    "  pt1.columns = [\"Invoice ID\", \"Branch\", \"City\", \"Customer\", \"Gender\", \n",
    "                      \"Product Line\", \"Unit Price\", \"Quantity\", \"Tax 5%\", \n",
    "                      \"Total\", \"Date\", \"Time\", \"Payment\", \"cogs\", \"Gross Margin %\", \n",
    "                      \"Gross Income\", \"Rating\"]\n",
    "  print(\"The Supermarket Sales Dataframe:\")\n",
    "  print(pt1)\n",
    "\n",
    "  pt2 = csvReader(csvFile)\n",
    "  pt2dict = SumOfSales(pt2)\n",
    "  print(\"\\n\\nThe Total Sales for each Branch are:\")\n",
    "  df2 = pd.DataFrame(list(pt2dict.items()),columns = ['Branch','Total Sales $'])\n",
    "  print (df2)\n",
    "\n",
    "  print(\"\\n\\nThe Total Sales for each Branch are by Customer Type are:\")\n",
    "  pt3dict = branchSales_custType(pt2)\n",
    "  df3 = pd.DataFrame(list(pt3dict.items()),columns = ['Branch','Customer Type & Total Sales $'])\n",
    "  print(df3)\n",
    "\n",
    "\n",
    "displayAll(\"supermarket_sales.csv\")"
   ]
  },
  {
   "cell_type": "markdown",
   "metadata": {
    "id": "bslmOJb3TMWK"
   },
   "source": [
    "*****"
   ]
  },
  {
   "cell_type": "markdown",
   "metadata": {
    "id": "e5vhSJJ27Efk"
   },
   "source": [
    "### Question 3  **[25 pts]**: \n",
    "Write a program detailing the number of passengers per vehicle.  The program includes three classes: `Vehicle`, `Car`, `Bus` where `Vehicle` is the parent class of `Car` and `Bus`. \n",
    "\n",
    "**a)**  **[10 pts]**  Each of the `Car` and `Bus` classes should have a constructor method `__init()__` that generates and returns a random number of passengers based on the type of the vehicle; If it is a `Bus`, then the number of passengers should be within a range of 5 and 20.  If the vehicle is a `Car`, the range should be between 1 to 4 passengers, inclusively.\n",
    "\n",
    "**b)**  **[10 pts]**  The program's `main()` function would display the following output.  Notably, since the numbers of passengers are randomly selected, the program will keep changing them every time it runs.\n",
    "\n",
    "```\n",
    "--------------------------------\n",
    "Bus Passengers:   64\n",
    "Car Passengers:   13\n",
    "Total Passengers: 77\n",
    "--------------------------------\n",
    "Bus#:  1  Number of Passengers :18\n",
    "Bus#:  2  Number of Passengers :20\n",
    "Bus#:  3  Number of Passengers : 6\n",
    "Bus#:  4  Number of Passengers : 9\n",
    "Bus#:  5  Number of Passengers :11\n",
    "Car#:  6  Number of Passengers : 1\n",
    "Car#:  7  Number of Passengers : 2\n",
    "Car#:  8  Number of Passengers : 4\n",
    "Car#:  9  Number of Passengers : 2\n",
    "Car#: 10  Number of Passengers : 4\n",
    "--------------------------------\n",
    "```\n",
    "\n",
    "**c)**  **[5 pts]** Restructure the program by re-defining the `Bus` class to be the superclass of `Car`, and display the same output."
   ]
  },
  {
   "cell_type": "code",
   "execution_count": 2,
   "metadata": {
    "execution": {
     "iopub.execute_input": "2022-02-07T18:24:05.355Z",
     "iopub.status.busy": "2022-02-07T18:24:05.345Z",
     "iopub.status.idle": "2022-02-07T18:24:05.365Z",
     "shell.execute_reply": "2022-02-07T18:24:05.026Z"
    },
    "id": "04Djltrd7aVB"
   },
   "outputs": [],
   "source": [
    "# a) \n",
    "import random\n",
    "\n",
    "class Vehicle():\n",
    "  def __init__(self, type):\n",
    "    self.type = type\n",
    "\n",
    "  def submethod(self, Bus):\n",
    "    print(self.type)\n",
    "\n",
    "class Car(Vehicle):\n",
    "  def __init__(self, number, capacity=None):\n",
    "    if capacity is None:\n",
    "      capacity = random.randint(1,4)\n",
    "    self.number = number\n",
    "    self.capacity = capacity\n",
    "\n",
    "class Bus(Vehicle):\n",
    "  def __init__(self, number, capacity=None):\n",
    "    if capacity is None:\n",
    "      capacity = random.randint(5,20)    \n",
    "    self.number = number\n",
    "    self.capacity = capacity"
   ]
  },
  {
   "cell_type": "code",
   "execution_count": 3,
   "metadata": {
    "colab": {
     "base_uri": "https://localhost:8080/"
    },
    "id": "VZJHJGLfGVqR",
    "outputId": "50fe6187-b8fa-49e4-b643-50136906179c"
   },
   "outputs": [
    {
     "name": "stdout",
     "output_type": "stream",
     "text": [
      "---------------------------------------------\n",
      "Bus Passengers:\t\t\t\t 58\n",
      "Car Passengers:\t\t\t\t 14\n",
      "Total Passengers:\t\t\t 72\n",
      "---------------------------------------------\n",
      "Bus#:\t 1 \tNumber of Passengers:\t 20\n",
      "Bus#:\t 2 \tNumber of Passengers:\t 7\n",
      "Bus#:\t 3 \tNumber of Passengers:\t 8\n",
      "Bus#:\t 4 \tNumber of Passengers:\t 12\n",
      "Bus#:\t 5 \tNumber of Passengers:\t 11\n",
      "Car#:\t 6 \tNumber of Passengers:\t 4\n",
      "Car#:\t 7 \tNumber of Passengers:\t 1\n",
      "Car#:\t 8 \tNumber of Passengers:\t 4\n",
      "Car#:\t 9 \tNumber of Passengers:\t 2\n",
      "Car#:\t 10 \tNumber of Passengers:\t 3\n",
      "---------------------------------------------\n"
     ]
    }
   ],
   "source": [
    "# b) \n",
    "def main():\n",
    "  Bus1 = Bus(1)\n",
    "  Bus2 = Bus(2)\n",
    "  Bus3 = Bus(3) \n",
    "  Bus4 = Bus(4)\n",
    "  Bus5 = Bus(5)\n",
    "  Car6 = Car(6)\n",
    "  Car7 = Car(7)\n",
    "  Car8 = Car(8) \n",
    "  Car9 = Car(9)\n",
    "  Car10 = Car(10)\n",
    "  \n",
    "  Busses = [Bus1.capacity, Bus2.capacity, Bus3.capacity, Bus4.capacity, Bus5.capacity]\n",
    "  Cars = [Car6.capacity, Car7.capacity, Car8.capacity, Car9.capacity, Car10.capacity]\n",
    "  sumBus = sum(Busses)\n",
    "  sumCar = sum(Cars)\n",
    "    \n",
    "  print('---------------------------------------------')\n",
    "  print('Bus Passengers:\\t\\t\\t\\t', sumBus)\n",
    "  print('Car Passengers:\\t\\t\\t\\t', sumCar)\n",
    "  print('Total Passengers:\\t\\t\\t', (sumBus + sumCar))\n",
    "  print('---------------------------------------------')\n",
    " \n",
    "  countB = 1\n",
    "  for element in Busses:\n",
    "    print(\"Bus#:\\t\", countB, \"\\tNumber of Passengers:\\t\", element)\n",
    "    countB += 1\n",
    "\n",
    "  countC = 6\n",
    "  for element in Cars:\n",
    "    print(\"Car#:\\t\", countC, \"\\tNumber of Passengers:\\t\", element)\n",
    "    countC += 1\n",
    "  print('---------------------------------------------')\n",
    "\n",
    "if __name__ == \"__main__\":\n",
    "  main()"
   ]
  },
  {
   "cell_type": "code",
   "execution_count": null,
   "metadata": {
    "colab": {
     "base_uri": "https://localhost:8080/"
    },
    "id": "vbvNfk8e44m1",
    "outputId": "4204b7e4-d9ab-4245-9953-93f482d9a5e8"
   },
   "outputs": [
    {
     "name": "stdout",
     "output_type": "stream",
     "text": [
      "---------------------------------------------\n",
      "Bus Passengers:\t\t\t\t 77\n",
      "Car Passengers:\t\t\t\t 16\n",
      "Total Passengers:\t\t\t 93\n",
      "---------------------------------------------\n",
      "Bus#:\t 1 \tNumber of Passengers:\t 8\n",
      "Bus#:\t 2 \tNumber of Passengers:\t 18\n",
      "Bus#:\t 3 \tNumber of Passengers:\t 19\n",
      "Bus#:\t 4 \tNumber of Passengers:\t 16\n",
      "Bus#:\t 5 \tNumber of Passengers:\t 16\n",
      "Car#:\t 6 \tNumber of Passengers:\t 3\n",
      "Car#:\t 7 \tNumber of Passengers:\t 4\n",
      "Car#:\t 8 \tNumber of Passengers:\t 4\n",
      "Car#:\t 9 \tNumber of Passengers:\t 2\n",
      "Car#:\t 10 \tNumber of Passengers:\t 3\n",
      "---------------------------------------------\n"
     ]
    }
   ],
   "source": [
    "import random\n",
    "\n",
    "class Vehicle():\n",
    "  def __init__(self, type):\n",
    "    self.type = type\n",
    "\n",
    "  def submethod(self, Bus):\n",
    "    print(self.type)\n",
    "\n",
    "class Car(Vehicle):\n",
    "  def __init__(self, number, capacity=None):\n",
    "    if capacity is None:\n",
    "      capacity = random.randint(1,4)\n",
    "    self.number = number\n",
    "    self.capacity = capacity\n",
    "\n",
    "class Bus(Vehicle):\n",
    "  def __init__(self, number, capacity=None):\n",
    "    super().__init__(number)\n",
    "    if capacity is None:\n",
    "      capacity = random.randint(5,20)    \n",
    "    self.number = number\n",
    "    self.capacity = capacity\n",
    "\n",
    "def main():\n",
    "  Bus1 = Bus(1)\n",
    "  Bus2 = Bus(2)\n",
    "  Bus3 = Bus(3) \n",
    "  Bus4 = Bus(4)\n",
    "  Bus5 = Bus(5)\n",
    "  Car6 = Car(6)\n",
    "  Car7 = Car(7)\n",
    "  Car8 = Car(8) \n",
    "  Car9 = Car(9)\n",
    "  Car10 = Car(10)\n",
    "  \n",
    "  Busses = [Bus1.capacity, Bus2.capacity, Bus3.capacity, Bus4.capacity, Bus5.capacity]\n",
    "  Cars = [Car6.capacity, Car7.capacity, Car8.capacity, Car9.capacity, Car10.capacity]\n",
    "  sumBus = sum(Busses)\n",
    "  sumCar = sum(Cars)\n",
    "    \n",
    "  print('---------------------------------------------')\n",
    "  print('Bus Passengers:\\t\\t\\t\\t', sumBus)\n",
    "  print('Car Passengers:\\t\\t\\t\\t', sumCar)\n",
    "  print('Total Passengers:\\t\\t\\t', (sumBus + sumCar))\n",
    "  print('---------------------------------------------')\n",
    " \n",
    "  countB = 1\n",
    "  for element in Busses:\n",
    "    print(\"Bus#:\\t\", countB, \"\\tNumber of Passengers:\\t\", element)\n",
    "    countB += 1\n",
    "\n",
    "  countC = 6\n",
    "  for element in Cars:\n",
    "    print(\"Car#:\\t\", countC, \"\\tNumber of Passengers:\\t\", element)\n",
    "    countC += 1\n",
    "  print('---------------------------------------------')\n",
    "\n",
    "if __name__ == \"__main__\":\n",
    "  main()"
   ]
  },
  {
   "cell_type": "markdown",
   "metadata": {
    "id": "My2U_-Z-waII"
   },
   "source": [
    "### Question 4  **[25 pts]**:"
   ]
  },
  {
   "cell_type": "markdown",
   "metadata": {
    "id": "hPNVoBjELuSi"
   },
   "source": [
    "**a)**  **[5 pts]** Define and implement a function that accepts a tuple of lists and returns the sum of only the unique numbers in that tuple.\n",
    "\n",
    "For example, if the user enters the following tuple: `\n",
    "([1, 5], [7, 8, 3, 2], [3, 3, 2])`\n",
    "then the output should be `26`."
   ]
  },
  {
   "cell_type": "code",
   "execution_count": null,
   "metadata": {
    "id": "2Zp9j14g3vwX"
   },
   "outputs": [],
   "source": [
    "import re\n",
    "\n",
    "def sumUniqueTup():\n",
    "  tupleList = input(\"Please enter a tuple of lists: \")\n",
    "  temp = re.sub(r'[\\[\\]\\(\\), ]', '', str(tupleList))\n",
    "  uniqueVals = [int(ele) for ele in set(temp)]\n",
    "  print(\"The sum of unique numbers in the tuple are: \" + str(sum(res)))\n",
    "\n",
    "sumUniqueTup()"
   ]
  },
  {
   "cell_type": "markdown",
   "metadata": {
    "id": "wPzFXvEcMoER"
   },
   "source": [
    "**b)**  **[5 pts]** Define and implement a function that converts the a list of tuples to a dictionary where the first value of each tuple is the key, and the second value is the dictionary value. <br>\n",
    "\n",
    "For example, if the user enters the following list: \n",
    "`\n",
    "[('Person1', 80), ('Person2', ), ('Person3', 20), ('Person4', 20, 60)]\n",
    "`\n",
    "\n",
    "Then the output should be: `{'Person1': 80, 'Person2': None, 'Person3': 20, 'Person4': 20}`\n"
   ]
  },
  {
   "cell_type": "code",
   "execution_count": 6,
   "metadata": {
    "id": "i6Eodx8-csv3"
   },
   "outputs": [],
   "source": [
    "def Convert(tup, di):\n",
    "    tups = input(\"Enter a list of tuples: \")\n",
    "    dictionary = {}\n",
    "    for a, b in tups:\n",
    "        di.setdefault(a, []).append(b)\n",
    "    print(dictionary)\n",
    "\n",
    "\n"
   ]
  },
  {
   "cell_type": "markdown",
   "metadata": {
    "id": "TsI5fOCAMoQi"
   },
   "source": [
    "**c)**  **[15 pts]** The following script extracts the text from the `https://norvig.com/big.txt` file, stores them in a string object, then assigns this string to a variable called `data` using the [requests](https://pypi.org/project/requests/) third-party library.\n",
    "```\n",
    "#!pip install requests\n",
    "import requests\n",
    "response = requests.get('https://norvig.com/big.txt')\n",
    "data = response.text\n",
    "```\n",
    "Run the script above, uncomment the first line if you need to install the library on your machine, then define and implement a function that returns the followings:\n",
    "\n",
    "* The total number of unique words and unique characters\n",
    "* The top ten most frequent words and the number of times these words appear in the text."
   ]
  },
  {
   "cell_type": "code",
   "execution_count": null,
   "metadata": {
    "colab": {
     "base_uri": "https://localhost:8080/"
    },
    "id": "660ailaysMBf",
    "outputId": "d36e0856-b696-40ca-cee1-f087fc792ec4"
   },
   "outputs": [
    {
     "name": "stdout",
     "output_type": "stream",
     "text": [
      "Requirement already satisfied: requests in /usr/local/lib/python3.7/dist-packages (2.23.0)\n",
      "Requirement already satisfied: urllib3!=1.25.0,!=1.25.1,<1.26,>=1.21.1 in /usr/local/lib/python3.7/dist-packages (from requests) (1.24.3)\n",
      "Requirement already satisfied: idna<3,>=2.5 in /usr/local/lib/python3.7/dist-packages (from requests) (2.10)\n",
      "Requirement already satisfied: certifi>=2017.4.17 in /usr/local/lib/python3.7/dist-packages (from requests) (2021.10.8)\n",
      "Requirement already satisfied: chardet<4,>=3.0.2 in /usr/local/lib/python3.7/dist-packages (from requests) (3.0.4)\n"
     ]
    }
   ],
   "source": [
    "!pip install requests\n",
    "import requests\n",
    "response = requests.get('https://norvig.com/big.txt')\n",
    "data = response.text"
   ]
  },
  {
   "cell_type": "code",
   "execution_count": null,
   "metadata": {
    "colab": {
     "base_uri": "https://localhost:8080/"
    },
    "id": "UhpCFVIziafS",
    "outputId": "91848b75-c969-4b9c-a6ee-6fc033af5212"
   },
   "outputs": [
    {
     "name": "stdout",
     "output_type": "stream",
     "text": [
      "Total Unique Words: 81397\n",
      "Total Unique Characters: 93\n",
      "Word\t Frequency\n",
      "the \t 71744\n",
      "of \t 39169\n",
      "and \t 35968\n",
      "to \t 27895\n",
      "a \t 19811\n",
      "in \t 19515\n",
      "that \t 11216\n",
      "was \t 11129\n",
      "his \t 9561\n",
      "he \t 9362\n"
     ]
    }
   ],
   "source": [
    "from collections import Counter\n",
    "\n",
    "def count_unqiue_words(data_file):\n",
    "  countWords = 0\n",
    "  u_words = set(data_file.split())\n",
    "  for word in u_words:\n",
    "    countWords += 1\n",
    "  print('Total Unique Words:', countWords)\n",
    "\n",
    "def count_unique_characters(data_file):\n",
    "  u_char = set(data_file)\n",
    "  print('Total Unique Characters:', len(u_char))\n",
    "\n",
    "def topTenWords(data_file):\n",
    "  u_words = data_file.split()\n",
    "  wCounter = Counter(u_words)\n",
    "  topTen = wCounter.most_common(10)\n",
    "  print(\"Word\\t\", \"Frequency\")\n",
    "  for i,j in topTen:\n",
    "    print(i,\"\\t\",j)\n",
    "\n",
    "def main():\n",
    "  count_unqiue_words(data)\n",
    "  count_unique_characters(data)\n",
    "  topTenWords(data)\n",
    "\n",
    "if __name__ == \"__main__\":\n",
    "  main()\n",
    "  "
   ]
  },
  {
   "cell_type": "markdown",
   "metadata": {
    "id": "7vRukEN2JfGX"
   },
   "source": [
    "#### This is the end of assignment 2"
   ]
  }
 ],
 "metadata": {
  "colab": {
   "collapsed_sections": [],
   "name": "CIND830W22_Assignment2_Q.ipynb",
   "provenance": [],
   "toc_visible": true
  },
  "kernelspec": {
   "display_name": "Python 3",
   "language": "python",
   "name": "python3"
  },
  "language_info": {
   "codemirror_mode": {
    "name": "ipython",
    "version": 3
   },
   "file_extension": ".py",
   "mimetype": "text/x-python",
   "name": "python",
   "nbconvert_exporter": "python",
   "pygments_lexer": "ipython3",
   "version": "3.8.3"
  },
  "nteract": {
   "version": "0.28.0"
  },
  "varInspector": {
   "cols": {
    "lenName": 16,
    "lenType": 16,
    "lenVar": 40
   },
   "kernels_config": {
    "python": {
     "delete_cmd_postfix": "",
     "delete_cmd_prefix": "del ",
     "library": "var_list.py",
     "varRefreshCmd": "print(var_dic_list())"
    },
    "r": {
     "delete_cmd_postfix": ") ",
     "delete_cmd_prefix": "rm(",
     "library": "var_list.r",
     "varRefreshCmd": "cat(var_dic_list()) "
    }
   },
   "types_to_exclude": [
    "module",
    "function",
    "builtin_function_or_method",
    "instance",
    "_Feature"
   ],
   "window_display": false
  }
 },
 "nbformat": 4,
 "nbformat_minor": 1
}
